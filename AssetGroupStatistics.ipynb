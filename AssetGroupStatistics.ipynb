{
 "cells": [
  {
   "cell_type": "markdown",
   "id": "d7a3cb68",
   "metadata": {},
   "source": [
    "# Imports"
   ]
  },
  {
   "cell_type": "code",
   "execution_count": 1,
   "id": "96e24d3d",
   "metadata": {},
   "outputs": [],
   "source": [
    "import pandas as pd\n",
    "import numpy as np\n",
    "import matplotlib.pyplot as plt\n",
    "import datetime as dt\n",
    "\n",
    "from sklearn.preprocessing import StandardScaler\n",
    "from scipy.stats.mstats import winsorize\n",
    "\n",
    "from statistics import quantiles\n",
    "\n",
    "from sklearn.metrics import mean_absolute_error, mean_squared_error\n",
    "\n",
    "import os\n",
    "#import warnings\n",
    "#warnings.simplefilter(action = \"module\", category=FutureWarning)\n",
    "\n",
    "\n",
    "%matplotlib inline"
   ]
  },
  {
   "cell_type": "markdown",
   "id": "8493f27e",
   "metadata": {},
   "source": [
    "# Stored Variables (From Statatistics File)"
   ]
  },
  {
   "cell_type": "code",
   "execution_count": 2,
   "id": "16368406",
   "metadata": {},
   "outputs": [],
   "source": [
    "%store -r df_crypto\n",
    "%store -r df_sp500\n",
    "%store -r df_comm"
   ]
  },
  {
   "cell_type": "code",
   "execution_count": 3,
   "id": "6c8d2eb0",
   "metadata": {},
   "outputs": [],
   "source": [
    "%store -r lstm_crypto_mse_dict\n",
    "%store -r lstm_crypto_rmse_dict\n",
    "%store -r lstm_crypto_mae_dict\n",
    "\n",
    "%store -r lstm_sp500_mse_dict\n",
    "%store -r lstm_sp500_rmse_dict\n",
    "%store -r lstm_sp500_mae_dict\n",
    "\n",
    "%store -r lstm_comm_mse_dict\n",
    "%store -r lstm_comm_rmse_dict\n",
    "%store -r lstm_comm_mae_dict"
   ]
  },
  {
   "cell_type": "code",
   "execution_count": 4,
   "id": "e01aa59e",
   "metadata": {},
   "outputs": [],
   "source": [
    "%store -r gru_crypto_mse_dict\n",
    "%store -r gru_crypto_rmse_dict\n",
    "%store -r gru_crypto_mae_dict\n",
    "\n",
    "%store -r gru_sp500_mse_dict\n",
    "%store -r gru_sp500_rmse_dict\n",
    "%store -r gru_sp500_mae_dict\n",
    "\n",
    "%store -r gru_comm_mse_dict\n",
    "%store -r gru_comm_rmse_dict\n",
    "%store -r gru_comm_mae_dict"
   ]
  },
  {
   "cell_type": "code",
   "execution_count": 5,
   "id": "a486e3ce",
   "metadata": {},
   "outputs": [],
   "source": [
    "%store -r arima_crypto_mse_dict\n",
    "%store -r arima_crypto_rmse_dict\n",
    "%store -r arima_crypto_mae_dict\n",
    "\n",
    "%store -r arima_sp500_mse_dict\n",
    "%store -r arima_sp500_rmse_dict\n",
    "%store -r arima_sp500_mae_dict\n",
    "\n",
    "%store -r arima_comm_mse_dict\n",
    "%store -r arima_comm_rmse_dict\n",
    "%store -r arima_comm_mae_dict\n",
    "\n",
    "arima_crypto_mse_dict = dict(arima_crypto_mse_dict)\n",
    "arima_crypto_rmse_dict = dict(arima_crypto_rmse_dict)\n",
    "arima_crypto_mae_dict = dict(arima_crypto_mae_dict)\n",
    "\n",
    "arima_sp500_mse_dict = dict(arima_sp500_mse_dict)\n",
    "arima_sp500_rmse_dict = dict(arima_sp500_rmse_dict)\n",
    "arima_sp500_mae_dict = dict(arima_sp500_mae_dict)\n",
    "\n",
    "arima_comm_mse_dict = dict(arima_comm_mse_dict)\n",
    "arima_comm_rmse_dict = dict(arima_comm_rmse_dict)\n",
    "arima_comm_mae_dict = dict(arima_comm_mae_dict)"
   ]
  },
  {
   "cell_type": "markdown",
   "id": "65ef65c3",
   "metadata": {},
   "source": [
    "# Crypto Statistics"
   ]
  },
  {
   "cell_type": "markdown",
   "id": "a23e581b",
   "metadata": {},
   "source": [
    "## Moment 1 (Mean)"
   ]
  },
  {
   "cell_type": "code",
   "execution_count": 6,
   "id": "0dfb7768",
   "metadata": {},
   "outputs": [],
   "source": [
    "crypto_mean_dict = {}\n",
    "\n",
    "for coin in df_crypto:\n",
    "    df_crypto[coin].dropna(inplace = True)\n",
    "    crypto_mean_dict[coin] = abs(np.mean(df_crypto[coin]))\n",
    "crypto_mean_dict = sorted(crypto_mean_dict.items(), key = lambda x:x[0])\n",
    "#print(crypto_mean_dict)"
   ]
  },
  {
   "cell_type": "code",
   "execution_count": 7,
   "id": "a5831a51",
   "metadata": {},
   "outputs": [],
   "source": [
    "crypto_means_list = list(zip(*crypto_mean_dict))[1]\n",
    "\n",
    "q1_crypto_mean = np.quantile(crypto_means_list, 0.2)\n",
    "q2_crypto_mean = np.quantile(crypto_means_list, 0.4)\n",
    "q3_crypto_mean = np.quantile(crypto_means_list, 0.6)\n",
    "q4_crypto_mean = np.quantile(crypto_means_list, 0.8)\n",
    "#print(q1_crypto_mean, q2_crypto_mean, q3_crypto_mean, q4_crypto_mean)"
   ]
  },
  {
   "cell_type": "code",
   "execution_count": 8,
   "id": "6ae20ef5",
   "metadata": {},
   "outputs": [],
   "source": [
    "crypto_mean_groups_dict = {}\n",
    "\n",
    "for i in range(len(crypto_mean_dict)):\n",
    "    if crypto_mean_dict[i][1] < q1_crypto_mean:\n",
    "        crypto_mean_groups_dict[(crypto_mean_dict[i][0])] = 1\n",
    "    elif crypto_mean_dict[i][1] >= q1_crypto_mean and crypto_mean_dict[i][1] < q2_crypto_mean:\n",
    "        crypto_mean_groups_dict[(crypto_mean_dict[i][0])] = 2\n",
    "    elif crypto_mean_dict[i][1] >= q2_crypto_mean and crypto_mean_dict[i][1] < q3_crypto_mean:\n",
    "        crypto_mean_groups_dict[(crypto_mean_dict[i][0])] = 3\n",
    "    elif crypto_mean_dict[i][1] >= q3_crypto_mean and crypto_mean_dict[i][1] < q4_crypto_mean:\n",
    "        crypto_mean_groups_dict[(crypto_mean_dict[i][0])] = 4\n",
    "    else:\n",
    "        crypto_mean_groups_dict[(crypto_mean_dict[i][0])] = 5\n",
    "\n",
    "crypto_mean_groups_dict = sorted(crypto_mean_groups_dict.items(), key = lambda x:x[0])\n",
    "#crypto_mean_groups_dict"
   ]
  },
  {
   "cell_type": "markdown",
   "id": "4e6e19b9",
   "metadata": {},
   "source": [
    "## Moment 2 (Variance)"
   ]
  },
  {
   "cell_type": "code",
   "execution_count": 9,
   "id": "87ddb32c",
   "metadata": {},
   "outputs": [],
   "source": [
    "crypto_variance_dict = {}\n",
    "\n",
    "for coin in df_crypto:\n",
    "    df_crypto[coin].dropna(inplace = True)\n",
    "    crypto_variance_dict[coin] = np.var(df_crypto[coin])\n",
    "crypto_variance_dict = sorted(crypto_variance_dict.items(), key = lambda x:x[1])\n",
    "#print(crypto_variance_dict)"
   ]
  },
  {
   "cell_type": "code",
   "execution_count": 10,
   "id": "e3f9e4ae",
   "metadata": {},
   "outputs": [],
   "source": [
    "crypto_variance_list = list(zip(*crypto_variance_dict))[1]\n",
    "\n",
    "q1_crypto_variance = np.quantile(crypto_variance_list, 0.2)\n",
    "q2_crypto_variance = np.quantile(crypto_variance_list, 0.4)\n",
    "q3_crypto_variance = np.quantile(crypto_variance_list, 0.6)\n",
    "q4_crypto_variance = np.quantile(crypto_variance_list, 0.8)\n",
    "#print(q1_crypto_variance, q2_crypto_variance, q3_crypto_variance, q4_crypto_variance)"
   ]
  },
  {
   "cell_type": "code",
   "execution_count": 11,
   "id": "a2e86c3b",
   "metadata": {},
   "outputs": [],
   "source": [
    "crypto_variance_groups_dict = {}\n",
    "\n",
    "for i in range(len(crypto_variance_dict)):\n",
    "    if crypto_variance_dict[i][1] < q1_crypto_variance:\n",
    "        crypto_variance_groups_dict[(crypto_variance_dict[i][0])] = 1\n",
    "    elif crypto_variance_dict[i][1] >= q1_crypto_variance and crypto_variance_dict[i][1] < q2_crypto_variance:\n",
    "        crypto_variance_groups_dict[(crypto_variance_dict[i][0])] = 2\n",
    "    elif crypto_variance_dict[i][1] >= q2_crypto_variance and crypto_variance_dict[i][1] < q3_crypto_variance:\n",
    "        crypto_variance_groups_dict[(crypto_variance_dict[i][0])] = 3\n",
    "    elif crypto_variance_dict[i][1] >= q3_crypto_variance and crypto_variance_dict[i][1] < q4_crypto_variance:\n",
    "        crypto_variance_groups_dict[(crypto_variance_dict[i][0])] = 4\n",
    "    else:\n",
    "        crypto_variance_groups_dict[(crypto_variance_dict[i][0])] = 5\n",
    "\n",
    "crypto_variance_groups_dict = sorted(crypto_variance_groups_dict.items(), key = lambda x:x[0])\n",
    "#crypto_variance_groups_dict"
   ]
  },
  {
   "cell_type": "markdown",
   "id": "ffa4c41d",
   "metadata": {},
   "source": [
    "## Moment 3 (Skewness)"
   ]
  },
  {
   "cell_type": "code",
   "execution_count": 12,
   "id": "fc43fb1b",
   "metadata": {},
   "outputs": [],
   "source": [
    "crypto_skewness_dict = {}\n",
    "\n",
    "for coin in df_crypto:\n",
    "    df_crypto[coin].dropna(inplace = True)\n",
    "    crypto_skewness_dict[coin] = abs(df_crypto[coin].skew())\n",
    "crypto_skewness_dict = sorted(crypto_skewness_dict.items(), key = lambda x:x[1])\n",
    "#print(crypto_skewness_dict)"
   ]
  },
  {
   "cell_type": "code",
   "execution_count": 13,
   "id": "f31cbb27",
   "metadata": {},
   "outputs": [],
   "source": [
    "crypto_skewness_list = list(zip(*crypto_skewness_dict))[1]\n",
    "\n",
    "q1_crypto_skewness = np.quantile(crypto_skewness_list, 0.2)\n",
    "q2_crypto_skewness = np.quantile(crypto_skewness_list, 0.4)\n",
    "q3_crypto_skewness = np.quantile(crypto_skewness_list, 0.6)\n",
    "q4_crypto_skewness = np.quantile(crypto_skewness_list, 0.8)\n",
    "#print(q1_crypto_skewness, q2_crypto_skewness, q3_crypto_skewness, q4_crypto_skewness)"
   ]
  },
  {
   "cell_type": "code",
   "execution_count": 14,
   "id": "e3b4d7f0",
   "metadata": {},
   "outputs": [],
   "source": [
    "crypto_skewness_groups_dict = {}\n",
    "\n",
    "for i in range(len(crypto_skewness_dict)):\n",
    "    if crypto_skewness_dict[i][1] < q1_crypto_skewness:\n",
    "        crypto_skewness_groups_dict[(crypto_skewness_dict[i][0])] = 1\n",
    "    elif crypto_skewness_dict[i][1] >= q1_crypto_skewness and crypto_skewness_dict[i][1] < q2_crypto_skewness:\n",
    "        crypto_skewness_groups_dict[(crypto_skewness_dict[i][0])] = 2\n",
    "    elif crypto_skewness_dict[i][1] >= q2_crypto_skewness and crypto_skewness_dict[i][1] < q3_crypto_skewness:\n",
    "        crypto_skewness_groups_dict[(crypto_skewness_dict[i][0])] = 3\n",
    "    elif crypto_skewness_dict[i][1] >= q3_crypto_skewness and crypto_skewness_dict[i][1] < q4_crypto_skewness:\n",
    "        crypto_skewness_groups_dict[(crypto_skewness_dict[i][0])] = 4\n",
    "    else:\n",
    "        crypto_skewness_groups_dict[(crypto_skewness_dict[i][0])] = 5\n",
    "\n",
    "crypto_skewness_groups_dict = sorted(crypto_skewness_groups_dict.items(), key = lambda x:x[0])\n",
    "#crypto_skewness_groups_dict"
   ]
  },
  {
   "cell_type": "markdown",
   "id": "4d8fbc12",
   "metadata": {},
   "source": [
    "## Moment 4 (Kurtosis)"
   ]
  },
  {
   "cell_type": "code",
   "execution_count": 15,
   "id": "9b3b46bc",
   "metadata": {},
   "outputs": [],
   "source": [
    "crypto_kurtosis_dict = {}\n",
    "\n",
    "for coin in df_crypto:\n",
    "    df_crypto[coin].dropna(inplace = True)\n",
    "    crypto_kurtosis_dict[coin] = df_crypto[coin].kurtosis()\n",
    "crypto_kurtosis_dict = sorted(crypto_kurtosis_dict.items(), key = lambda x:x[1])\n",
    "#print(crypto_kurtosis_dict)"
   ]
  },
  {
   "cell_type": "code",
   "execution_count": 16,
   "id": "74b396b0",
   "metadata": {},
   "outputs": [],
   "source": [
    "crypto_kurtosis_list = list(zip(*crypto_kurtosis_dict))[1]\n",
    "\n",
    "q1_crypto_kurtosis = np.quantile(crypto_kurtosis_list, 0.2)\n",
    "q2_crypto_kurtosis = np.quantile(crypto_kurtosis_list, 0.4)\n",
    "q3_crypto_kurtosis = np.quantile(crypto_kurtosis_list, 0.6)\n",
    "q4_crypto_kurtosis = np.quantile(crypto_kurtosis_list, 0.8)\n",
    "#print(q1_crypto_kurtosis, q2_crypto_kurtosis, q3_crypto_kurtosis, q4_crypto_kurtosis)"
   ]
  },
  {
   "cell_type": "code",
   "execution_count": 17,
   "id": "aad8188b",
   "metadata": {},
   "outputs": [],
   "source": [
    "crypto_kurtosis_groups_dict = {}\n",
    "\n",
    "for i in range(len(crypto_kurtosis_dict)):\n",
    "    if crypto_kurtosis_dict[i][1] < q1_crypto_kurtosis:\n",
    "        crypto_kurtosis_groups_dict[(crypto_kurtosis_dict[i][0])] = 1\n",
    "    elif crypto_kurtosis_dict[i][1] >= q1_crypto_kurtosis and crypto_kurtosis_dict[i][1] < q2_crypto_kurtosis:\n",
    "        crypto_kurtosis_groups_dict[(crypto_kurtosis_dict[i][0])] = 2\n",
    "    elif crypto_kurtosis_dict[i][1] >= q2_crypto_kurtosis and crypto_kurtosis_dict[i][1] < q3_crypto_kurtosis:\n",
    "        crypto_kurtosis_groups_dict[(crypto_kurtosis_dict[i][0])] = 3\n",
    "    elif crypto_kurtosis_dict[i][1] >= q3_crypto_kurtosis and crypto_kurtosis_dict[i][1] < q4_crypto_kurtosis:\n",
    "        crypto_kurtosis_groups_dict[(crypto_kurtosis_dict[i][0])] = 4\n",
    "    else:\n",
    "        crypto_kurtosis_groups_dict[(crypto_kurtosis_dict[i][0])] = 5\n",
    "\n",
    "crypto_kurtosis_groups_dict = sorted(crypto_kurtosis_groups_dict.items(), key = lambda x:x[0])\n",
    "#crypto_kurtosis_groups_dict"
   ]
  },
  {
   "cell_type": "markdown",
   "id": "ffda32aa",
   "metadata": {},
   "source": [
    "## Crypto Moment DataFrames"
   ]
  },
  {
   "cell_type": "code",
   "execution_count": 18,
   "id": "b93fb080",
   "metadata": {},
   "outputs": [],
   "source": [
    "crypto_asset_names = []\n",
    "\n",
    "for i in range(len(crypto_mean_groups_dict)):\n",
    "    crypto_asset_names.append(crypto_mean_groups_dict[i][0])\n",
    "#crypto_asset_names"
   ]
  },
  {
   "cell_type": "code",
   "execution_count": 19,
   "id": "997b2e08",
   "metadata": {},
   "outputs": [],
   "source": [
    "crypto_groups_mom1 = []\n",
    "crypto_groups_mom2 = []\n",
    "crypto_groups_mom3 = []\n",
    "crypto_groups_mom4 = []\n",
    "\n",
    "for i in range(len(crypto_mean_groups_dict)):\n",
    "    crypto_groups_mom1.append(crypto_mean_groups_dict[i][1])\n",
    "    crypto_groups_mom2.append(crypto_variance_groups_dict[i][1])\n",
    "    crypto_groups_mom3.append(crypto_skewness_groups_dict[i][1])\n",
    "    crypto_groups_mom4.append(crypto_kurtosis_groups_dict[i][1])"
   ]
  },
  {
   "cell_type": "code",
   "execution_count": 20,
   "id": "233b7e04",
   "metadata": {},
   "outputs": [],
   "source": [
    "lstm_crypto_mse_dict_new = sorted(lstm_crypto_mse_dict.items(), key = lambda x:x[0])\n",
    "lstm_crypto_rmse_dict_new = sorted(lstm_crypto_rmse_dict.items(), key = lambda x:x[0])\n",
    "lstm_crypto_mae_dict_new = sorted(lstm_crypto_mae_dict.items(), key = lambda x:x[0])\n",
    "\n",
    "lstm_crypto_mse_vals = []\n",
    "lstm_crypto_rmse_vals = []\n",
    "lstm_crypto_mae_vals = []\n",
    "\n",
    "for i in range(len(crypto_mean_groups_dict)):\n",
    "    lstm_crypto_mse_vals.append(lstm_crypto_mse_dict_new[i][1])\n",
    "    lstm_crypto_rmse_vals.append(lstm_crypto_rmse_dict_new[i][1])\n",
    "    lstm_crypto_mae_vals.append(lstm_crypto_mae_dict_new[i][1])"
   ]
  },
  {
   "cell_type": "code",
   "execution_count": 21,
   "id": "86fe3cf8",
   "metadata": {},
   "outputs": [],
   "source": [
    "gru_crypto_mse_dict_new = sorted(gru_crypto_mse_dict.items(), key = lambda x:x[0])\n",
    "gru_crypto_rmse_dict_new = sorted(gru_crypto_rmse_dict.items(), key = lambda x:x[0])\n",
    "gru_crypto_mae_dict_new = sorted(gru_crypto_mae_dict.items(), key = lambda x:x[0])\n",
    "\n",
    "gru_crypto_mse_vals = []\n",
    "gru_crypto_rmse_vals = []\n",
    "gru_crypto_mae_vals = []\n",
    "\n",
    "for i in range(len(crypto_mean_groups_dict)):\n",
    "    gru_crypto_mse_vals.append(gru_crypto_mse_dict_new[i][1])\n",
    "    gru_crypto_rmse_vals.append(gru_crypto_rmse_dict_new[i][1])\n",
    "    gru_crypto_mae_vals.append(gru_crypto_mae_dict_new[i][1])"
   ]
  },
  {
   "cell_type": "code",
   "execution_count": 22,
   "id": "afc42a93",
   "metadata": {},
   "outputs": [],
   "source": [
    "arima_crypto_mse_dict_new = sorted(arima_crypto_mse_dict.items(), key = lambda x:x[0])\n",
    "arima_crypto_rmse_dict_new = sorted(arima_crypto_rmse_dict.items(), key = lambda x:x[0])\n",
    "arima_crypto_mae_dict_new = sorted(arima_crypto_mae_dict.items(), key = lambda x:x[0])\n",
    "\n",
    "arima_crypto_mse_vals = []\n",
    "arima_crypto_rmse_vals = []\n",
    "arima_crypto_mae_vals = []\n",
    "\n",
    "for i in range(len(crypto_mean_groups_dict)):\n",
    "    arima_crypto_mse_vals.append(arima_crypto_mse_dict_new[i][1])\n",
    "    arima_crypto_rmse_vals.append(arima_crypto_rmse_dict_new[i][1])\n",
    "    arima_crypto_mae_vals.append(arima_crypto_mae_dict_new[i][1])"
   ]
  },
  {
   "cell_type": "markdown",
   "id": "c0dfe289",
   "metadata": {},
   "source": [
    "### Crypto Moment 1 LSTM DataFrame"
   ]
  },
  {
   "cell_type": "code",
   "execution_count": 23,
   "id": "0f38cd9f",
   "metadata": {},
   "outputs": [],
   "source": [
    "lstm_crypto_mom1_df = pd.DataFrame(list(zip(crypto_asset_names, crypto_groups_mom1, lstm_crypto_mse_vals, \n",
    "                                     lstm_crypto_rmse_vals, lstm_crypto_mae_vals)), \n",
    "                            columns = [\"CryptoName\", \"Group\", \"MSE\", \"RMSE\", \"MAE\"])\n",
    "#lstm_crypto_mom1_df"
   ]
  },
  {
   "cell_type": "code",
   "execution_count": 24,
   "id": "db04802f",
   "metadata": {},
   "outputs": [],
   "source": [
    "lstm_crypto_mom1_mse_avg = lstm_crypto_mom1_df.groupby(\"Group\")[\"MSE\"].mean()\n",
    "lstm_crypto_mom1_rmse_avg = lstm_crypto_mom1_df.groupby(\"Group\")[\"RMSE\"].mean()\n",
    "lstm_crypto_mom1_mae_avg = lstm_crypto_mom1_df.groupby(\"Group\")[\"MAE\"].mean()\n",
    "\n",
    "lstm_crypto_mom1_eval_groups = pd.concat([lstm_crypto_mom1_mse_avg, lstm_crypto_mom1_rmse_avg, lstm_crypto_mom1_mae_avg],\n",
    "                                         axis = 1).to_csv(\"lstm_crypto_mom1_eval_groups.csv\")"
   ]
  },
  {
   "cell_type": "markdown",
   "id": "80db932b",
   "metadata": {},
   "source": [
    "### Crypto Moment 2 LSTM DataFrame"
   ]
  },
  {
   "cell_type": "code",
   "execution_count": 25,
   "id": "5c45d4cd",
   "metadata": {},
   "outputs": [],
   "source": [
    "lstm_crypto_mom2_df = pd.DataFrame(list(zip(crypto_asset_names, crypto_groups_mom2, lstm_crypto_mse_vals, \n",
    "                                     lstm_crypto_rmse_vals, lstm_crypto_mae_vals)), \n",
    "                            columns = [\"CryptoName\", \"Group\", \"MSE\", \"RMSE\", \"MAE\"])\n",
    "#lstm_crypto_mom2_df"
   ]
  },
  {
   "cell_type": "code",
   "execution_count": 26,
   "id": "8e695f39",
   "metadata": {},
   "outputs": [],
   "source": [
    "lstm_crypto_mom2_mse_avg = lstm_crypto_mom2_df.groupby(\"Group\")[\"MSE\"].mean()\n",
    "lstm_crypto_mom2_rmse_avg = lstm_crypto_mom2_df.groupby(\"Group\")[\"RMSE\"].mean()\n",
    "lstm_crypto_mom2_mae_avg = lstm_crypto_mom2_df.groupby(\"Group\")[\"MAE\"].mean()\n",
    "\n",
    "lstm_crypto_mom2_eval_groups = pd.concat([lstm_crypto_mom2_mse_avg, lstm_crypto_mom2_rmse_avg, lstm_crypto_mom2_mae_avg], \n",
    "                                         axis = 1).to_csv(\"lstm_crypto_mom2_eval_groups.csv\")"
   ]
  },
  {
   "cell_type": "markdown",
   "id": "289ee924",
   "metadata": {},
   "source": [
    "### Crypto Moment 3 LSTM DataFrame"
   ]
  },
  {
   "cell_type": "code",
   "execution_count": 27,
   "id": "efd5d4de",
   "metadata": {},
   "outputs": [],
   "source": [
    "lstm_crypto_mom3_df = pd.DataFrame(list(zip(crypto_asset_names, crypto_groups_mom3, lstm_crypto_mse_vals, \n",
    "                                     lstm_crypto_rmse_vals, lstm_crypto_mae_vals)), \n",
    "                            columns = [\"CryptoName\", \"Group\", \"MSE\", \"RMSE\", \"MAE\"])\n",
    "#lstm_crypto_mom3_df"
   ]
  },
  {
   "cell_type": "code",
   "execution_count": 28,
   "id": "d9a37954",
   "metadata": {},
   "outputs": [],
   "source": [
    "lstm_crypto_mom3_mse_avg = lstm_crypto_mom3_df.groupby(\"Group\")[\"MSE\"].mean()\n",
    "lstm_crypto_mom3_rmse_avg = lstm_crypto_mom3_df.groupby(\"Group\")[\"RMSE\"].mean()\n",
    "lstm_crypto_mom3_mae_avg = lstm_crypto_mom3_df.groupby(\"Group\")[\"MAE\"].mean()\n",
    "\n",
    "lstm_crypto_mom3_eval_groups = pd.concat([lstm_crypto_mom3_mse_avg, lstm_crypto_mom3_rmse_avg, lstm_crypto_mom3_mae_avg], \n",
    "                                         axis = 1).to_csv(\"lstm_crypto_mom3_eval_groups.csv\")"
   ]
  },
  {
   "cell_type": "markdown",
   "id": "1a149a24",
   "metadata": {},
   "source": [
    "### Crypto Moment 4 LSTM DataFrame"
   ]
  },
  {
   "cell_type": "code",
   "execution_count": 29,
   "id": "343231c2",
   "metadata": {},
   "outputs": [],
   "source": [
    "lstm_crypto_mom4_df = pd.DataFrame(list(zip(crypto_asset_names, crypto_groups_mom3, lstm_crypto_mse_vals, \n",
    "                                     lstm_crypto_rmse_vals, lstm_crypto_mae_vals)), \n",
    "                            columns = [\"CryptoName\", \"Group\", \"MSE\", \"RMSE\", \"MAE\"])\n",
    "#lstm_crypto_mom4_df"
   ]
  },
  {
   "cell_type": "code",
   "execution_count": 30,
   "id": "0b719c8c",
   "metadata": {},
   "outputs": [],
   "source": [
    "lstm_crypto_mom4_mse_avg = lstm_crypto_mom4_df.groupby(\"Group\")[\"MSE\"].mean()\n",
    "lstm_crypto_mom4_rmse_avg = lstm_crypto_mom4_df.groupby(\"Group\")[\"RMSE\"].mean()\n",
    "lstm_crypto_mom4_mae_avg = lstm_crypto_mom4_df.groupby(\"Group\")[\"MAE\"].mean()\n",
    "\n",
    "lstm_crypto_mom4_eval_groups = pd.concat([lstm_crypto_mom4_mse_avg, lstm_crypto_mom4_rmse_avg, lstm_crypto_mom4_mae_avg], \n",
    "                                         axis = 1).to_csv(\"lstm_crypto_mom4_eval_groups.csv\")"
   ]
  },
  {
   "cell_type": "markdown",
   "id": "5b62e5d7",
   "metadata": {},
   "source": [
    "### Crypto Moment 1 GRU DataFrame"
   ]
  },
  {
   "cell_type": "code",
   "execution_count": 31,
   "id": "999e3a8a",
   "metadata": {},
   "outputs": [],
   "source": [
    "gru_crypto_mom1_df = pd.DataFrame(list(zip(crypto_asset_names, crypto_groups_mom1, gru_crypto_mse_vals, \n",
    "                                     gru_crypto_rmse_vals, gru_crypto_mae_vals)), \n",
    "                            columns = [\"CryptoName\", \"Group\", \"MSE\", \"RMSE\", \"MAE\"])\n",
    "#gru_crypto_mom1_df"
   ]
  },
  {
   "cell_type": "code",
   "execution_count": 32,
   "id": "30d8bcff",
   "metadata": {},
   "outputs": [],
   "source": [
    "gru_crypto_mom1_mse_avg = gru_crypto_mom1_df.groupby(\"Group\")[\"MSE\"].mean()\n",
    "gru_crypto_mom1_rmse_avg = gru_crypto_mom1_df.groupby(\"Group\")[\"RMSE\"].mean()\n",
    "gru_crypto_mom1_mae_avg = gru_crypto_mom1_df.groupby(\"Group\")[\"MAE\"].mean()\n",
    "\n",
    "gru_crypto_mom1_eval_groups = pd.concat([gru_crypto_mom1_mse_avg, gru_crypto_mom1_rmse_avg, gru_crypto_mom1_mae_avg], \n",
    "                                        axis = 1).to_csv(\"gru_crypto_mom1_eval_groups.csv\")"
   ]
  },
  {
   "cell_type": "markdown",
   "id": "ec8163e8",
   "metadata": {},
   "source": [
    "### Crypto Moment 2 GRU DataFrame"
   ]
  },
  {
   "cell_type": "code",
   "execution_count": 33,
   "id": "43d4d27a",
   "metadata": {},
   "outputs": [],
   "source": [
    "gru_crypto_mom2_df = pd.DataFrame(list(zip(crypto_asset_names, crypto_groups_mom2, gru_crypto_mse_vals, \n",
    "                                     gru_crypto_rmse_vals, gru_crypto_mae_vals)), \n",
    "                            columns = [\"CryptoName\", \"Group\", \"MSE\", \"RMSE\", \"MAE\"])\n",
    "#gru_crypto_mom2_df"
   ]
  },
  {
   "cell_type": "code",
   "execution_count": 34,
   "id": "5ea20f95",
   "metadata": {},
   "outputs": [],
   "source": [
    "gru_crypto_mom2_mse_avg = gru_crypto_mom2_df.groupby(\"Group\")[\"MSE\"].mean()\n",
    "gru_crypto_mom2_rmse_avg = gru_crypto_mom2_df.groupby(\"Group\")[\"RMSE\"].mean()\n",
    "gru_crypto_mom2_mae_avg = gru_crypto_mom2_df.groupby(\"Group\")[\"MAE\"].mean()\n",
    "\n",
    "gru_crypto_mom2_eval_groups = pd.concat([gru_crypto_mom2_mse_avg, gru_crypto_mom2_rmse_avg, gru_crypto_mom2_mae_avg], \n",
    "                                        axis = 1).to_csv(\"gru_crypto_mom2_eval_groups.csv\")"
   ]
  },
  {
   "cell_type": "markdown",
   "id": "61d8c6d4",
   "metadata": {},
   "source": [
    "### Crypto Moment 3 GRU DataFrame"
   ]
  },
  {
   "cell_type": "code",
   "execution_count": 35,
   "id": "8fdd7fc1",
   "metadata": {},
   "outputs": [],
   "source": [
    "gru_crypto_mom3_df = pd.DataFrame(list(zip(crypto_asset_names, crypto_groups_mom3, gru_crypto_mse_vals, \n",
    "                                     gru_crypto_rmse_vals, gru_crypto_mae_vals)), \n",
    "                            columns = [\"CryptoName\", \"Group\", \"MSE\", \"RMSE\", \"MAE\"])\n",
    "#gru_crypto_mom3_df"
   ]
  },
  {
   "cell_type": "code",
   "execution_count": 36,
   "id": "b431440b",
   "metadata": {},
   "outputs": [],
   "source": [
    "gru_crypto_mom3_mse_avg = gru_crypto_mom3_df.groupby(\"Group\")[\"MSE\"].mean()\n",
    "gru_crypto_mom3_rmse_avg = gru_crypto_mom3_df.groupby(\"Group\")[\"RMSE\"].mean()\n",
    "gru_crypto_mom3_mae_avg = gru_crypto_mom3_df.groupby(\"Group\")[\"MAE\"].mean()\n",
    "\n",
    "gru_crypto_mom3_eval_groups = pd.concat([gru_crypto_mom3_mse_avg, gru_crypto_mom3_rmse_avg, gru_crypto_mom3_mae_avg], \n",
    "                                        axis = 1).to_csv(\"gru_crypto_mom3_eval_groups.csv\")"
   ]
  },
  {
   "cell_type": "markdown",
   "id": "3489e514",
   "metadata": {},
   "source": [
    "### Crypto Moment 4 GRU DataFrame "
   ]
  },
  {
   "cell_type": "code",
   "execution_count": 37,
   "id": "91901350",
   "metadata": {},
   "outputs": [],
   "source": [
    "gru_crypto_mom4_df = pd.DataFrame(list(zip(crypto_asset_names, crypto_groups_mom4, gru_crypto_mse_vals, \n",
    "                                     gru_crypto_rmse_vals, gru_crypto_mae_vals)), \n",
    "                            columns = [\"CryptoName\", \"Group\", \"MSE\", \"RMSE\", \"MAE\"])\n",
    "#gru_crypto_mom4_df"
   ]
  },
  {
   "cell_type": "code",
   "execution_count": 38,
   "id": "a776b9be",
   "metadata": {},
   "outputs": [],
   "source": [
    "gru_crypto_mom4_mse_avg = gru_crypto_mom4_df.groupby(\"Group\")[\"MSE\"].mean()\n",
    "gru_crypto_mom4_rmse_avg = gru_crypto_mom4_df.groupby(\"Group\")[\"RMSE\"].mean()\n",
    "gru_crypto_mom4_mae_avg = gru_crypto_mom4_df.groupby(\"Group\")[\"MAE\"].mean()\n",
    "\n",
    "gru_crypto_mom4_eval_groups = pd.concat([gru_crypto_mom4_mse_avg, gru_crypto_mom4_rmse_avg, gru_crypto_mom4_mae_avg], \n",
    "                                        axis = 1).to_csv(\"gru_crypto_mom4_eval_groups.csv\")"
   ]
  },
  {
   "cell_type": "markdown",
   "id": "11c23623",
   "metadata": {},
   "source": [
    "### Crypto Moment 1 ARIMA DataFrame"
   ]
  },
  {
   "cell_type": "code",
   "execution_count": 39,
   "id": "5daa65d6",
   "metadata": {},
   "outputs": [],
   "source": [
    "arima_crypto_mom1_df = pd.DataFrame(list(zip(crypto_asset_names, crypto_groups_mom1, arima_crypto_mse_vals, \n",
    "                                     arima_crypto_rmse_vals, arima_crypto_mae_vals)), \n",
    "                            columns = [\"CryptoName\", \"Group\", \"MSE\", \"RMSE\", \"MAE\"])\n",
    "#arima_crypto_mom1_df"
   ]
  },
  {
   "cell_type": "code",
   "execution_count": 40,
   "id": "0a4d9cc7",
   "metadata": {},
   "outputs": [],
   "source": [
    "arima_crypto_mom1_mse_avg = arima_crypto_mom1_df.groupby(\"Group\")[\"MSE\"].mean()\n",
    "arima_crypto_mom1_rmse_avg = arima_crypto_mom1_df.groupby(\"Group\")[\"RMSE\"].mean()\n",
    "arima_crypto_mom1_mae_avg = arima_crypto_mom1_df.groupby(\"Group\")[\"MAE\"].mean()\n",
    "\n",
    "arima_crypto_mom1_eval_groups = pd.concat([arima_crypto_mom1_mse_avg, arima_crypto_mom1_rmse_avg, arima_crypto_mom1_mae_avg], \n",
    "                                        axis = 1).to_csv(\"arima_crypto_mom1_eval_groups.csv\")"
   ]
  },
  {
   "cell_type": "markdown",
   "id": "7b2bd60d",
   "metadata": {},
   "source": [
    "### Crypto Moment 2 ARIMA DataFrame"
   ]
  },
  {
   "cell_type": "code",
   "execution_count": 41,
   "id": "49b22361",
   "metadata": {},
   "outputs": [],
   "source": [
    "arima_crypto_mom2_df = pd.DataFrame(list(zip(crypto_asset_names, crypto_groups_mom2, arima_crypto_mse_vals, \n",
    "                                     arima_crypto_rmse_vals, arima_crypto_mae_vals)), \n",
    "                            columns = [\"CryptoName\", \"Group\", \"MSE\", \"RMSE\", \"MAE\"])\n",
    "#arima_crypto_mom2_df"
   ]
  },
  {
   "cell_type": "code",
   "execution_count": 42,
   "id": "2b58d480",
   "metadata": {},
   "outputs": [],
   "source": [
    "arima_crypto_mom2_mse_avg = arima_crypto_mom2_df.groupby(\"Group\")[\"MSE\"].mean()\n",
    "arima_crypto_mom2_rmse_avg = arima_crypto_mom2_df.groupby(\"Group\")[\"RMSE\"].mean()\n",
    "arima_crypto_mom2_mae_avg = arima_crypto_mom2_df.groupby(\"Group\")[\"MAE\"].mean()\n",
    "\n",
    "arima_crypto_mom2_eval_groups = pd.concat([arima_crypto_mom2_mse_avg, arima_crypto_mom2_rmse_avg, arima_crypto_mom2_mae_avg], \n",
    "                                        axis = 1).to_csv(\"arima_crypto_mom2_eval_groups.csv\")"
   ]
  },
  {
   "cell_type": "markdown",
   "id": "bdfcf7ea",
   "metadata": {},
   "source": [
    "### Crypto Moment 3 ARIMA DataFrame"
   ]
  },
  {
   "cell_type": "code",
   "execution_count": 43,
   "id": "bac2fe6a",
   "metadata": {},
   "outputs": [],
   "source": [
    "arima_crypto_mom3_df = pd.DataFrame(list(zip(crypto_asset_names, crypto_groups_mom3, arima_crypto_mse_vals, \n",
    "                                     arima_crypto_rmse_vals, arima_crypto_mae_vals)), \n",
    "                            columns = [\"CryptoName\", \"Group\", \"MSE\", \"RMSE\", \"MAE\"])\n",
    "#arima_crypto_mom3_df"
   ]
  },
  {
   "cell_type": "code",
   "execution_count": 44,
   "id": "b9e6b9f4",
   "metadata": {},
   "outputs": [],
   "source": [
    "arima_crypto_mom3_mse_avg = arima_crypto_mom3_df.groupby(\"Group\")[\"MSE\"].mean()\n",
    "arima_crypto_mom3_rmse_avg = arima_crypto_mom3_df.groupby(\"Group\")[\"RMSE\"].mean()\n",
    "arima_crypto_mom3_mae_avg = arima_crypto_mom3_df.groupby(\"Group\")[\"MAE\"].mean()\n",
    "\n",
    "arima_crypto_mom3_eval_groups = pd.concat([arima_crypto_mom3_mse_avg, arima_crypto_mom3_rmse_avg, arima_crypto_mom3_mae_avg], \n",
    "                                        axis = 1).to_csv(\"arima_crypto_mom3_eval_groups.csv\")"
   ]
  },
  {
   "cell_type": "markdown",
   "id": "db6f2874",
   "metadata": {},
   "source": [
    "### Crypto Moment 4 ARIMA DatFrame"
   ]
  },
  {
   "cell_type": "code",
   "execution_count": 45,
   "id": "75be8251",
   "metadata": {},
   "outputs": [],
   "source": [
    "arima_crypto_mom4_df = pd.DataFrame(list(zip(crypto_asset_names, crypto_groups_mom4, arima_crypto_mse_vals, \n",
    "                                     arima_crypto_rmse_vals, arima_crypto_mae_vals)), \n",
    "                            columns = [\"CryptoName\", \"Group\", \"MSE\", \"RMSE\", \"MAE\"])\n",
    "#arima_crypto_mom4_df"
   ]
  },
  {
   "cell_type": "code",
   "execution_count": 46,
   "id": "f4104e69",
   "metadata": {},
   "outputs": [],
   "source": [
    "arima_crypto_mom4_mse_avg = arima_crypto_mom4_df.groupby(\"Group\")[\"MSE\"].mean()\n",
    "arima_crypto_mom4_rmse_avg = arima_crypto_mom4_df.groupby(\"Group\")[\"RMSE\"].mean()\n",
    "arima_crypto_mom4_mae_avg = arima_crypto_mom4_df.groupby(\"Group\")[\"MAE\"].mean()\n",
    "\n",
    "arima_crypto_mom4_eval_groups = pd.concat([arima_crypto_mom4_mse_avg, arima_crypto_mom4_rmse_avg, arima_crypto_mom4_mae_avg], \n",
    "                                        axis = 1).to_csv(\"arima_crypto_mom4_eval_groups.csv\")"
   ]
  },
  {
   "cell_type": "markdown",
   "id": "5adf051d",
   "metadata": {},
   "source": [
    "# SP500 Statistics"
   ]
  },
  {
   "cell_type": "markdown",
   "id": "d30dc94a",
   "metadata": {},
   "source": [
    "## Moment 1 (Mean)"
   ]
  },
  {
   "cell_type": "code",
   "execution_count": 47,
   "id": "4b65b6c4",
   "metadata": {},
   "outputs": [],
   "source": [
    "sp500_mean_dict = {}\n",
    "\n",
    "for stock in df_sp500:\n",
    "    df_sp500[stock].dropna(inplace = True)\n",
    "    sp500_mean_dict[stock] = abs(np.mean(df_sp500[stock]))\n",
    "sp500_mean_dict = sorted(sp500_mean_dict.items(), key = lambda x:x[0])\n",
    "#print(sp500_mean_dict)"
   ]
  },
  {
   "cell_type": "code",
   "execution_count": 48,
   "id": "04c4ddb1",
   "metadata": {},
   "outputs": [],
   "source": [
    "sp500_means_list = list(zip(*sp500_mean_dict))[1]\n",
    "\n",
    "q1_sp500_mean = np.quantile(sp500_means_list, 0.2)\n",
    "q2_sp500_mean = np.quantile(sp500_means_list, 0.4)\n",
    "q3_sp500_mean = np.quantile(sp500_means_list, 0.6)\n",
    "q4_sp500_mean = np.quantile(sp500_means_list, 0.8)\n",
    "#print(q1_sp500_mean, q2_sp500_mean, q3_sp500_mean, q4_sp500_mean)"
   ]
  },
  {
   "cell_type": "code",
   "execution_count": 49,
   "id": "cbadf0c0",
   "metadata": {},
   "outputs": [],
   "source": [
    "sp500_mean_groups_dict = {}\n",
    "\n",
    "for i in range(len(sp500_mean_dict)):\n",
    "    if sp500_mean_dict[i][1] < q1_sp500_mean:\n",
    "        sp500_mean_groups_dict[(sp500_mean_dict[i][0])] = 1\n",
    "    elif sp500_mean_dict[i][1] >= q1_sp500_mean and sp500_mean_dict[i][1] < q2_sp500_mean:\n",
    "        sp500_mean_groups_dict[(sp500_mean_dict[i][0])] = 2\n",
    "    elif sp500_mean_dict[i][1] >= q2_sp500_mean and sp500_mean_dict[i][1] < q3_sp500_mean:\n",
    "        sp500_mean_groups_dict[(sp500_mean_dict[i][0])] = 3\n",
    "    elif sp500_mean_dict[i][1] >= q3_sp500_mean and sp500_mean_dict[i][1] < q4_sp500_mean:\n",
    "        sp500_mean_groups_dict[(sp500_mean_dict[i][0])] = 4\n",
    "    else:\n",
    "        sp500_mean_groups_dict[(sp500_mean_dict[i][0])] = 5\n",
    "\n",
    "sp500_mean_groups_dict = sorted(sp500_mean_groups_dict.items(), key = lambda x:x[0])\n",
    "#sp500_mean_groups_dict"
   ]
  },
  {
   "cell_type": "markdown",
   "id": "8085eb78",
   "metadata": {},
   "source": [
    "## Moment 2 (Variance)"
   ]
  },
  {
   "cell_type": "code",
   "execution_count": 50,
   "id": "10b1b0ce",
   "metadata": {},
   "outputs": [],
   "source": [
    "sp500_variance_dict = {}\n",
    "\n",
    "for stock in df_sp500:\n",
    "    df_sp500[stock].dropna(inplace = True)\n",
    "    sp500_variance_dict[stock] = np.var(df_sp500[stock])\n",
    "sp500_variance_dict = sorted(sp500_variance_dict.items(), key = lambda x:x[1])\n",
    "#print(sp500_variance_dict)"
   ]
  },
  {
   "cell_type": "code",
   "execution_count": 51,
   "id": "18f08217",
   "metadata": {},
   "outputs": [],
   "source": [
    "sp500_variance_list = list(zip(*sp500_variance_dict))[1]\n",
    "\n",
    "q1_sp500_variance = np.quantile(sp500_variance_list, 0.2)\n",
    "q2_sp500_variance = np.quantile(sp500_variance_list, 0.4)\n",
    "q3_sp500_variance = np.quantile(sp500_variance_list, 0.6)\n",
    "q4_sp500_variance = np.quantile(sp500_variance_list, 0.8)\n",
    "#print(q1_sp500_variance, q2_sp500_variance, q3_sp500_variance, q4_sp500_variance)"
   ]
  },
  {
   "cell_type": "code",
   "execution_count": 52,
   "id": "fe987004",
   "metadata": {},
   "outputs": [],
   "source": [
    "sp500_variance_groups_dict = {}\n",
    "\n",
    "for i in range(len(sp500_variance_dict)):\n",
    "    if sp500_variance_dict[i][1] < q1_sp500_variance:\n",
    "        sp500_variance_groups_dict[(sp500_variance_dict[i][0])] = 1\n",
    "    elif sp500_variance_dict[i][1] >= q1_sp500_variance and sp500_variance_dict[i][1] < q2_sp500_variance:\n",
    "        sp500_variance_groups_dict[(sp500_variance_dict[i][0])] = 2\n",
    "    elif sp500_variance_dict[i][1] >= q2_sp500_variance and sp500_variance_dict[i][1] < q3_sp500_variance:\n",
    "        sp500_variance_groups_dict[(sp500_variance_dict[i][0])] = 3\n",
    "    elif sp500_variance_dict[i][1] >= q3_sp500_variance and sp500_variance_dict[i][1] < q4_sp500_variance:\n",
    "        sp500_variance_groups_dict[(sp500_variance_dict[i][0])] = 4\n",
    "    else:\n",
    "        sp500_variance_groups_dict[(sp500_variance_dict[i][0])] = 5\n",
    "\n",
    "sp500_variance_groups_dict = sorted(sp500_variance_groups_dict.items(), key = lambda x:x[0])\n",
    "#sp500_variance_groups_dict"
   ]
  },
  {
   "cell_type": "markdown",
   "id": "cb3dc8ea",
   "metadata": {},
   "source": [
    "## Moment 3 (Skewness)"
   ]
  },
  {
   "cell_type": "code",
   "execution_count": 53,
   "id": "f9da267e",
   "metadata": {},
   "outputs": [],
   "source": [
    "sp500_skewness_dict = {}\n",
    "\n",
    "for stock in df_sp500:\n",
    "    df_sp500[stock].dropna(inplace = True)\n",
    "    sp500_skewness_dict[stock] = abs(df_sp500[stock].skew())\n",
    "sp500_skewness_dict = sorted(sp500_skewness_dict.items(), key = lambda x:x[1])\n",
    "#print(sp500_skewness_dict)"
   ]
  },
  {
   "cell_type": "code",
   "execution_count": 54,
   "id": "70df7011",
   "metadata": {},
   "outputs": [],
   "source": [
    "sp500_skewness_list = list(zip(*sp500_skewness_dict))[1]\n",
    "\n",
    "q1_sp500_skewness = np.quantile(sp500_skewness_list, 0.2)\n",
    "q2_sp500_skewness = np.quantile(sp500_skewness_list, 0.4)\n",
    "q3_sp500_skewness = np.quantile(sp500_skewness_list, 0.6)\n",
    "q4_sp500_skewness = np.quantile(sp500_skewness_list, 0.8)\n",
    "#print(q1_sp500_skewness, q2_sp500_skewness, q3_sp500_skewness, q4_sp500_skewness)"
   ]
  },
  {
   "cell_type": "code",
   "execution_count": 55,
   "id": "9e65c739",
   "metadata": {},
   "outputs": [],
   "source": [
    "sp500_skewness_groups_dict = {}\n",
    "\n",
    "for i in range(len(sp500_skewness_dict)):\n",
    "    if sp500_skewness_dict[i][1] < q1_sp500_skewness:\n",
    "        sp500_skewness_groups_dict[(sp500_skewness_dict[i][0])] = 1\n",
    "    elif sp500_skewness_dict[i][1] >= q1_sp500_skewness and sp500_skewness_dict[i][1] < q2_sp500_skewness:\n",
    "        sp500_skewness_groups_dict[(sp500_skewness_dict[i][0])] = 2\n",
    "    elif sp500_skewness_dict[i][1] >= q2_sp500_skewness and sp500_skewness_dict[i][1] < q3_sp500_skewness:\n",
    "        sp500_skewness_groups_dict[(sp500_skewness_dict[i][0])] = 3\n",
    "    elif sp500_skewness_dict[i][1] >= q3_sp500_skewness and sp500_skewness_dict[i][1] < q4_sp500_skewness:\n",
    "        sp500_skewness_groups_dict[(sp500_skewness_dict[i][0])] = 4\n",
    "    else:\n",
    "        sp500_skewness_groups_dict[(sp500_skewness_dict[i][0])] = 5\n",
    "\n",
    "sp500_skewness_groups_dict = sorted(sp500_skewness_groups_dict.items(), key = lambda x:x[0])\n",
    "#sp500_skewness_groups_dict"
   ]
  },
  {
   "cell_type": "markdown",
   "id": "fb2c0a80",
   "metadata": {},
   "source": [
    "## Moment 4 (Kurtosis)"
   ]
  },
  {
   "cell_type": "code",
   "execution_count": 56,
   "id": "9bfae998",
   "metadata": {},
   "outputs": [],
   "source": [
    "sp500_kurtosis_dict = {}\n",
    "\n",
    "for stock in df_sp500:\n",
    "    df_sp500[stock].dropna(inplace = True)\n",
    "    sp500_kurtosis_dict[stock] = df_sp500[stock].kurtosis()\n",
    "sp500_kurtosis_dict = sorted(sp500_kurtosis_dict.items(), key = lambda x:x[1])\n",
    "#print(sp500_kurtosis_dict)"
   ]
  },
  {
   "cell_type": "code",
   "execution_count": 57,
   "id": "e20debc9",
   "metadata": {},
   "outputs": [],
   "source": [
    "sp500_kurtosis_list = list(zip(*sp500_kurtosis_dict))[1]\n",
    "\n",
    "q1_sp500_kurtosis = np.quantile(sp500_kurtosis_list, 0.2)\n",
    "q2_sp500_kurtosis = np.quantile(sp500_kurtosis_list, 0.4)\n",
    "q3_sp500_kurtosis = np.quantile(sp500_kurtosis_list, 0.6)\n",
    "q4_sp500_kurtosis = np.quantile(sp500_kurtosis_list, 0.8)\n",
    "#print(q1_sp500_kurtosis, q2_sp500_kurtosis, q3_sp500_kurtosis, q4_sp500_kurtosis)"
   ]
  },
  {
   "cell_type": "code",
   "execution_count": 58,
   "id": "f92755ee",
   "metadata": {},
   "outputs": [],
   "source": [
    "sp500_kurtosis_groups_dict = {}\n",
    "\n",
    "for i in range(len(sp500_kurtosis_dict)):\n",
    "    if sp500_kurtosis_dict[i][1] < q1_sp500_kurtosis:\n",
    "        sp500_kurtosis_groups_dict[(sp500_kurtosis_dict[i][0])] = 1\n",
    "    elif sp500_kurtosis_dict[i][1] >= q1_sp500_kurtosis and sp500_kurtosis_dict[i][1] < q2_sp500_kurtosis:\n",
    "        sp500_kurtosis_groups_dict[(sp500_kurtosis_dict[i][0])] = 2\n",
    "    elif sp500_kurtosis_dict[i][1] >= q2_sp500_kurtosis and sp500_kurtosis_dict[i][1] < q3_sp500_kurtosis:\n",
    "        sp500_kurtosis_groups_dict[(sp500_kurtosis_dict[i][0])] = 3\n",
    "    elif sp500_kurtosis_dict[i][1] >= q3_sp500_kurtosis and sp500_kurtosis_dict[i][1] < q4_sp500_kurtosis:\n",
    "        sp500_kurtosis_groups_dict[(sp500_kurtosis_dict[i][0])] = 4\n",
    "    else:\n",
    "        sp500_kurtosis_groups_dict[(sp500_kurtosis_dict[i][0])] = 5\n",
    "\n",
    "sp500_kurtosis_groups_dict = sorted(sp500_kurtosis_groups_dict.items(), key = lambda x:x[0])\n",
    "#sp500_kurtosis_groups_dict"
   ]
  },
  {
   "cell_type": "markdown",
   "id": "ac779d8b",
   "metadata": {},
   "source": [
    "## SP500 Moment DataFrames"
   ]
  },
  {
   "cell_type": "code",
   "execution_count": 59,
   "id": "7169eb36",
   "metadata": {},
   "outputs": [],
   "source": [
    "sp500_asset_names = []\n",
    "\n",
    "for i in range(len(sp500_mean_groups_dict)):\n",
    "    sp500_asset_names.append(sp500_mean_groups_dict[i][0])\n",
    "#sp500_asset_names"
   ]
  },
  {
   "cell_type": "code",
   "execution_count": 60,
   "id": "a9ecc8cb",
   "metadata": {},
   "outputs": [],
   "source": [
    "sp500_groups_mom1 = []\n",
    "sp500_groups_mom2 = []\n",
    "sp500_groups_mom3 = []\n",
    "sp500_groups_mom4 = []\n",
    "\n",
    "for i in range(len(sp500_mean_groups_dict)):\n",
    "    sp500_groups_mom1.append(sp500_mean_groups_dict[i][1])\n",
    "    sp500_groups_mom2.append(sp500_variance_groups_dict[i][1])\n",
    "    sp500_groups_mom3.append(sp500_skewness_groups_dict[i][1])\n",
    "    sp500_groups_mom4.append(sp500_kurtosis_groups_dict[i][1])"
   ]
  },
  {
   "cell_type": "code",
   "execution_count": 61,
   "id": "eb0245ce",
   "metadata": {},
   "outputs": [],
   "source": [
    "lstm_sp500_mse_dict_new = sorted(lstm_sp500_mse_dict.items(), key = lambda x:x[0])\n",
    "lstm_sp500_rmse_dict_new = sorted(lstm_sp500_rmse_dict.items(), key = lambda x:x[0])\n",
    "lstm_sp500_mae_dict_new = sorted(lstm_sp500_mae_dict.items(), key = lambda x:x[0])\n",
    "\n",
    "lstm_sp500_mse_vals = []\n",
    "lstm_sp500_rmse_vals = []\n",
    "lstm_sp500_mae_vals = []\n",
    "\n",
    "for i in range(len(sp500_mean_groups_dict)):\n",
    "    lstm_sp500_mse_vals.append(lstm_sp500_mse_dict_new[i][1])\n",
    "    lstm_sp500_rmse_vals.append(lstm_sp500_rmse_dict_new[i][1])\n",
    "    lstm_sp500_mae_vals.append(lstm_sp500_mae_dict_new[i][1])"
   ]
  },
  {
   "cell_type": "code",
   "execution_count": 62,
   "id": "b5b2ac40",
   "metadata": {},
   "outputs": [],
   "source": [
    "gru_sp500_mse_dict_new = sorted(gru_sp500_mse_dict.items(), key = lambda x:x[0])\n",
    "gru_sp500_rmse_dict_new = sorted(gru_sp500_rmse_dict.items(), key = lambda x:x[0])\n",
    "gru_sp500_mae_dict_new = sorted(gru_sp500_mae_dict.items(), key = lambda x:x[0])\n",
    "\n",
    "gru_sp500_mse_vals = []\n",
    "gru_sp500_rmse_vals = []\n",
    "gru_sp500_mae_vals = []\n",
    "\n",
    "for i in range(len(sp500_mean_groups_dict)):\n",
    "    gru_sp500_mse_vals.append(gru_sp500_mse_dict_new[i][1])\n",
    "    gru_sp500_rmse_vals.append(gru_sp500_rmse_dict_new[i][1])\n",
    "    gru_sp500_mae_vals.append(gru_sp500_mae_dict_new[i][1])"
   ]
  },
  {
   "cell_type": "code",
   "execution_count": 63,
   "id": "a91b2693",
   "metadata": {},
   "outputs": [],
   "source": [
    "arima_sp500_mse_dict_new = sorted(arima_sp500_mse_dict.items(), key = lambda x:x[0])\n",
    "arima_sp500_rmse_dict_new = sorted(arima_sp500_rmse_dict.items(), key = lambda x:x[0])\n",
    "arima_sp500_mae_dict_new = sorted(arima_sp500_mae_dict.items(), key = lambda x:x[0])\n",
    "\n",
    "arima_sp500_mse_vals = []\n",
    "arima_sp500_rmse_vals = []\n",
    "arima_sp500_mae_vals = []\n",
    "\n",
    "for i in range(len(sp500_mean_groups_dict)):\n",
    "    arima_sp500_mse_vals.append(arima_sp500_mse_dict_new[i][1])\n",
    "    arima_sp500_rmse_vals.append(arima_sp500_rmse_dict_new[i][1])\n",
    "    arima_sp500_mae_vals.append(arima_sp500_mae_dict_new[i][1])"
   ]
  },
  {
   "cell_type": "markdown",
   "id": "42c6e9f1",
   "metadata": {},
   "source": [
    "### SP500 Moment 1 LSTM DataFrame"
   ]
  },
  {
   "cell_type": "code",
   "execution_count": 64,
   "id": "fd3ecd30",
   "metadata": {},
   "outputs": [],
   "source": [
    "lstm_sp500_mom1_df = pd.DataFrame(list(zip(sp500_asset_names, sp500_groups_mom1, lstm_sp500_mse_vals, \n",
    "                                     lstm_sp500_rmse_vals, lstm_sp500_mae_vals)), \n",
    "                            columns = [\"CryptoName\", \"Group\", \"MSE\", \"RMSE\", \"MAE\"])\n",
    "#lstm_sp500_mom1_df"
   ]
  },
  {
   "cell_type": "code",
   "execution_count": 65,
   "id": "6a1fac3b",
   "metadata": {},
   "outputs": [],
   "source": [
    "lstm_sp500_mom1_mse_avg = lstm_sp500_mom1_df.groupby(\"Group\")[\"MSE\"].mean()\n",
    "lstm_sp500_mom1_rmse_avg = lstm_sp500_mom1_df.groupby(\"Group\")[\"RMSE\"].mean()\n",
    "lstm_sp500_mom1_mae_avg = lstm_sp500_mom1_df.groupby(\"Group\")[\"MAE\"].mean()\n",
    "\n",
    "lstm_sp500_mom1_eval_groups = pd.concat([lstm_sp500_mom1_mse_avg, lstm_sp500_mom1_rmse_avg, lstm_sp500_mom1_mae_avg], \n",
    "                                        axis = 1).to_csv(\"lstm_sp500_mom1_eval_groups.csv\")"
   ]
  },
  {
   "cell_type": "markdown",
   "id": "f8a867bf",
   "metadata": {},
   "source": [
    "### SP500 Moment 2 LSTM DataFrame"
   ]
  },
  {
   "cell_type": "code",
   "execution_count": 66,
   "id": "c16bcf86",
   "metadata": {},
   "outputs": [],
   "source": [
    "lstm_sp500_mom2_df = pd.DataFrame(list(zip(sp500_asset_names, sp500_groups_mom2, lstm_sp500_mse_vals, \n",
    "                                     lstm_sp500_rmse_vals, lstm_sp500_mae_vals)), \n",
    "                            columns = [\"CryptoName\", \"Group\", \"MSE\", \"RMSE\", \"MAE\"])\n",
    "#lstm_sp500_mom2_df"
   ]
  },
  {
   "cell_type": "code",
   "execution_count": 67,
   "id": "ade1dee0",
   "metadata": {},
   "outputs": [],
   "source": [
    "lstm_sp500_mom2_mse_avg = lstm_sp500_mom2_df.groupby(\"Group\")[\"MSE\"].mean()\n",
    "lstm_sp500_mom2_rmse_avg = lstm_sp500_mom2_df.groupby(\"Group\")[\"RMSE\"].mean()\n",
    "lstm_sp500_mom2_mae_avg = lstm_sp500_mom2_df.groupby(\"Group\")[\"MAE\"].mean()\n",
    "\n",
    "lstm_sp500_mom2_eval_groups = pd.concat([lstm_sp500_mom2_mse_avg, lstm_sp500_mom2_rmse_avg, lstm_sp500_mom2_mae_avg], \n",
    "                                        axis = 1).to_csv(\"lstm_sp500_mom2_eval_groups.csv\")"
   ]
  },
  {
   "cell_type": "markdown",
   "id": "e87b9271",
   "metadata": {},
   "source": [
    "### SP500 Moment 3 LSTM DataFrame"
   ]
  },
  {
   "cell_type": "code",
   "execution_count": 68,
   "id": "6b5e7f6d",
   "metadata": {},
   "outputs": [],
   "source": [
    "lstm_sp500_mom3_df = pd.DataFrame(list(zip(sp500_asset_names, sp500_groups_mom3, lstm_sp500_mse_vals, \n",
    "                                     lstm_sp500_rmse_vals, lstm_sp500_mae_vals)), \n",
    "                            columns = [\"CryptoName\", \"Group\", \"MSE\", \"RMSE\", \"MAE\"])\n",
    "#lstm_sp500_mom3_df"
   ]
  },
  {
   "cell_type": "code",
   "execution_count": 69,
   "id": "bb659bf3",
   "metadata": {},
   "outputs": [],
   "source": [
    "lstm_sp500_mom3_mse_avg = lstm_sp500_mom3_df.groupby(\"Group\")[\"MSE\"].mean()\n",
    "lstm_sp500_mom3_rmse_avg = lstm_sp500_mom3_df.groupby(\"Group\")[\"RMSE\"].mean()\n",
    "lstm_sp500_mom3_mae_avg = lstm_sp500_mom3_df.groupby(\"Group\")[\"MAE\"].mean()\n",
    "\n",
    "lstm_sp500_mom3_eval_groups = pd.concat([lstm_sp500_mom3_mse_avg, lstm_sp500_mom3_rmse_avg, lstm_sp500_mom3_mae_avg], \n",
    "                                        axis = 1).to_csv(\"lstm_sp500_mom3_eval_groups.csv\")"
   ]
  },
  {
   "cell_type": "markdown",
   "id": "46869374",
   "metadata": {},
   "source": [
    "### SP500 Moment 4 LSTM DataFrame"
   ]
  },
  {
   "cell_type": "code",
   "execution_count": 70,
   "id": "711aca45",
   "metadata": {},
   "outputs": [],
   "source": [
    "lstm_sp500_mom4_df = pd.DataFrame(list(zip(sp500_asset_names, sp500_groups_mom4, lstm_sp500_mse_vals, \n",
    "                                     lstm_sp500_rmse_vals, lstm_sp500_mae_vals)), \n",
    "                            columns = [\"CryptoName\", \"Group\", \"MSE\", \"RMSE\", \"MAE\"])\n",
    "#lstm_sp500_mom4_df"
   ]
  },
  {
   "cell_type": "code",
   "execution_count": 71,
   "id": "2d8f6fc3",
   "metadata": {},
   "outputs": [],
   "source": [
    "lstm_sp500_mom4_mse_avg = lstm_sp500_mom4_df.groupby(\"Group\")[\"MSE\"].mean()\n",
    "lstm_sp500_mom4_rmse_avg = lstm_sp500_mom4_df.groupby(\"Group\")[\"RMSE\"].mean()\n",
    "lstm_sp500_mom4_mae_avg = lstm_sp500_mom4_df.groupby(\"Group\")[\"MAE\"].mean()\n",
    "\n",
    "lstm_sp500_mom4_eval_groups = pd.concat([lstm_sp500_mom4_mse_avg, lstm_sp500_mom4_rmse_avg, lstm_sp500_mom4_mae_avg], \n",
    "                                        axis = 1).to_csv(\"lstm_sp500_mom4_eval_groups.csv\")"
   ]
  },
  {
   "cell_type": "markdown",
   "id": "d778192a",
   "metadata": {},
   "source": [
    "### SP500 Moment 1 GRU DataFrame"
   ]
  },
  {
   "cell_type": "code",
   "execution_count": 72,
   "id": "78771c28",
   "metadata": {},
   "outputs": [],
   "source": [
    "gru_sp500_mom1_df = pd.DataFrame(list(zip(sp500_asset_names, sp500_groups_mom1, gru_sp500_mse_vals, \n",
    "                                     gru_sp500_rmse_vals, gru_sp500_mae_vals)), \n",
    "                            columns = [\"CryptoName\", \"Group\", \"MSE\", \"RMSE\", \"MAE\"])\n",
    "#gru_sp500_mom1_df"
   ]
  },
  {
   "cell_type": "code",
   "execution_count": 73,
   "id": "796addee",
   "metadata": {},
   "outputs": [],
   "source": [
    "gru_sp500_mom1_mse_avg = gru_sp500_mom1_df.groupby(\"Group\")[\"MSE\"].mean()\n",
    "gru_sp500_mom1_rmse_avg = gru_sp500_mom1_df.groupby(\"Group\")[\"RMSE\"].mean()\n",
    "gru_sp500_mom1_mae_avg = gru_sp500_mom1_df.groupby(\"Group\")[\"MAE\"].mean()\n",
    "\n",
    "gru_sp500_mom1_eval_groups = pd.concat([gru_sp500_mom1_mse_avg, gru_sp500_mom1_rmse_avg, gru_sp500_mom1_mae_avg], \n",
    "                                        axis = 1).to_csv(\"gru_sp500_mom1_eval_groups.csv\")"
   ]
  },
  {
   "cell_type": "markdown",
   "id": "919476cb",
   "metadata": {},
   "source": [
    "### SP500 Moment 2 GRU DataFrame"
   ]
  },
  {
   "cell_type": "code",
   "execution_count": 74,
   "id": "6337e654",
   "metadata": {},
   "outputs": [],
   "source": [
    "gru_sp500_mom2_df = pd.DataFrame(list(zip(sp500_asset_names, sp500_groups_mom2, gru_sp500_mse_vals, \n",
    "                                     gru_sp500_rmse_vals, gru_sp500_mae_vals)), \n",
    "                            columns = [\"CryptoName\", \"Group\", \"MSE\", \"RMSE\", \"MAE\"])\n",
    "#gru_sp500_mom2_df"
   ]
  },
  {
   "cell_type": "code",
   "execution_count": 75,
   "id": "e4f7f8e3",
   "metadata": {},
   "outputs": [],
   "source": [
    "gru_sp500_mom2_mse_avg = gru_sp500_mom2_df.groupby(\"Group\")[\"MSE\"].mean()\n",
    "gru_sp500_mom2_rmse_avg = gru_sp500_mom2_df.groupby(\"Group\")[\"RMSE\"].mean()\n",
    "gru_sp500_mom2_mae_avg = gru_sp500_mom2_df.groupby(\"Group\")[\"MAE\"].mean()\n",
    "\n",
    "gru_sp500_mom2_eval_groups = pd.concat([gru_sp500_mom2_mse_avg, gru_sp500_mom2_rmse_avg, gru_sp500_mom2_mae_avg], \n",
    "                                        axis = 1).to_csv(\"gru_sp500_mom2_eval_groups.csv\")"
   ]
  },
  {
   "cell_type": "markdown",
   "id": "97f3e0f3",
   "metadata": {},
   "source": [
    "### SP500 Moment 3 GRU DataFrame "
   ]
  },
  {
   "cell_type": "code",
   "execution_count": 76,
   "id": "deb40f00",
   "metadata": {},
   "outputs": [],
   "source": [
    "gru_sp500_mom3_df = pd.DataFrame(list(zip(sp500_asset_names, sp500_groups_mom3, gru_sp500_mse_vals, \n",
    "                                     gru_sp500_rmse_vals, gru_sp500_mae_vals)), \n",
    "                            columns = [\"CryptoName\", \"Group\", \"MSE\", \"RMSE\", \"MAE\"])\n",
    "#gru_sp500_mom3_df"
   ]
  },
  {
   "cell_type": "code",
   "execution_count": 77,
   "id": "4138c3e2",
   "metadata": {},
   "outputs": [],
   "source": [
    "gru_sp500_mom3_mse_avg = gru_sp500_mom3_df.groupby(\"Group\")[\"MSE\"].mean()\n",
    "gru_sp500_mom3_rmse_avg = gru_sp500_mom3_df.groupby(\"Group\")[\"RMSE\"].mean()\n",
    "gru_sp500_mom3_mae_avg = gru_sp500_mom3_df.groupby(\"Group\")[\"MAE\"].mean()\n",
    "\n",
    "gru_sp500_mom3_eval_groups = pd.concat([gru_sp500_mom3_mse_avg, gru_sp500_mom3_rmse_avg, gru_sp500_mom3_mae_avg], \n",
    "                                        axis = 1).to_csv(\"gru_sp500_mom3_eval_groups.csv\")"
   ]
  },
  {
   "cell_type": "markdown",
   "id": "7fcabbe7",
   "metadata": {},
   "source": [
    "### SP500 Moment 4 GRU DataFrame"
   ]
  },
  {
   "cell_type": "code",
   "execution_count": 78,
   "id": "1a4d585d",
   "metadata": {},
   "outputs": [],
   "source": [
    "gru_sp500_mom4_df = pd.DataFrame(list(zip(sp500_asset_names, sp500_groups_mom4, gru_sp500_mse_vals, \n",
    "                                     gru_sp500_rmse_vals, gru_sp500_mae_vals)), \n",
    "                            columns = [\"CryptoName\", \"Group\", \"MSE\", \"RMSE\", \"MAE\"])\n",
    "#gru_sp500_mom4_df"
   ]
  },
  {
   "cell_type": "code",
   "execution_count": 79,
   "id": "95ce3b63",
   "metadata": {},
   "outputs": [],
   "source": [
    "gru_sp500_mom4_mse_avg = gru_sp500_mom4_df.groupby(\"Group\")[\"MSE\"].mean()\n",
    "gru_sp500_mom4_rmse_avg = gru_sp500_mom4_df.groupby(\"Group\")[\"RMSE\"].mean()\n",
    "gru_sp500_mom4_mae_avg = gru_sp500_mom4_df.groupby(\"Group\")[\"MAE\"].mean()\n",
    "\n",
    "gru_sp500_mom4_eval_groups = pd.concat([gru_sp500_mom4_mse_avg, gru_sp500_mom4_rmse_avg, gru_sp500_mom4_mae_avg], \n",
    "                                        axis = 1).to_csv(\"gru_sp500_mom4_eval_groups.csv\")"
   ]
  },
  {
   "cell_type": "markdown",
   "id": "7c8d9709",
   "metadata": {},
   "source": [
    "### SP500 Moment 1 ARIMA DataFrame"
   ]
  },
  {
   "cell_type": "code",
   "execution_count": 80,
   "id": "a42ada94",
   "metadata": {},
   "outputs": [],
   "source": [
    "arima_sp500_mom1_df = pd.DataFrame(list(zip(sp500_asset_names, sp500_groups_mom1, arima_sp500_mse_vals, \n",
    "                                     arima_sp500_rmse_vals, arima_sp500_mae_vals)), \n",
    "                            columns = [\"CryptoName\", \"Group\", \"MSE\", \"RMSE\", \"MAE\"])\n",
    "#arima_sp500_mom1_df"
   ]
  },
  {
   "cell_type": "code",
   "execution_count": 81,
   "id": "6dd7b366",
   "metadata": {},
   "outputs": [],
   "source": [
    "arima_sp500_mom1_mse_avg = arima_sp500_mom1_df.groupby(\"Group\")[\"MSE\"].mean()\n",
    "arima_sp500_mom1_rmse_avg = arima_sp500_mom1_df.groupby(\"Group\")[\"RMSE\"].mean()\n",
    "arima_sp500_mom1_mae_avg = arima_sp500_mom1_df.groupby(\"Group\")[\"MAE\"].mean()\n",
    "\n",
    "arima_sp500_mom1_eval_groups = pd.concat([arima_sp500_mom1_mse_avg, arima_sp500_mom1_rmse_avg, arima_sp500_mom1_mae_avg], \n",
    "                                        axis = 1).to_csv(\"arima_sp500_mom1_eval_groups.csv\")"
   ]
  },
  {
   "cell_type": "markdown",
   "id": "d93b7cc6",
   "metadata": {},
   "source": [
    "### SP500 Moment 2 ARIMA DataFrame"
   ]
  },
  {
   "cell_type": "code",
   "execution_count": 82,
   "id": "a8d24236",
   "metadata": {},
   "outputs": [],
   "source": [
    "arima_sp500_mom2_df = pd.DataFrame(list(zip(sp500_asset_names, sp500_groups_mom2, arima_sp500_mse_vals, \n",
    "                                     arima_sp500_rmse_vals, arima_sp500_mae_vals)), \n",
    "                            columns = [\"CryptoName\", \"Group\", \"MSE\", \"RMSE\", \"MAE\"])\n",
    "#arima_sp500_mom2_df"
   ]
  },
  {
   "cell_type": "code",
   "execution_count": 83,
   "id": "d765ee24",
   "metadata": {},
   "outputs": [],
   "source": [
    "arima_sp500_mom2_mse_avg = arima_sp500_mom2_df.groupby(\"Group\")[\"MSE\"].mean()\n",
    "arima_sp500_mom2_rmse_avg = arima_sp500_mom2_df.groupby(\"Group\")[\"RMSE\"].mean()\n",
    "arima_sp500_mom2_mae_avg = arima_sp500_mom2_df.groupby(\"Group\")[\"MAE\"].mean()\n",
    "\n",
    "arima_sp500_mom2_eval_groups = pd.concat([arima_sp500_mom2_mse_avg, arima_sp500_mom2_rmse_avg, arima_sp500_mom2_mae_avg], \n",
    "                                        axis = 1).to_csv(\"arima_sp500_mom2_eval_groups.csv\")"
   ]
  },
  {
   "cell_type": "markdown",
   "id": "5ab5dac6",
   "metadata": {},
   "source": [
    "### SP500 Moment 3 ARIMA DataFrame"
   ]
  },
  {
   "cell_type": "code",
   "execution_count": 84,
   "id": "5dec6b2d",
   "metadata": {},
   "outputs": [],
   "source": [
    "arima_sp500_mom3_df = pd.DataFrame(list(zip(sp500_asset_names, sp500_groups_mom3, arima_sp500_mse_vals, \n",
    "                                     arima_sp500_rmse_vals, arima_sp500_mae_vals)), \n",
    "                            columns = [\"CryptoName\", \"Group\", \"MSE\", \"RMSE\", \"MAE\"])\n",
    "#arima_sp500_mom3_df"
   ]
  },
  {
   "cell_type": "code",
   "execution_count": 85,
   "id": "90a3f637",
   "metadata": {},
   "outputs": [],
   "source": [
    "arima_sp500_mom3_mse_avg = arima_sp500_mom3_df.groupby(\"Group\")[\"MSE\"].mean()\n",
    "arima_sp500_mom3_rmse_avg = arima_sp500_mom3_df.groupby(\"Group\")[\"RMSE\"].mean()\n",
    "arima_sp500_mom3_mae_avg = arima_sp500_mom3_df.groupby(\"Group\")[\"MAE\"].mean()\n",
    "\n",
    "arima_sp500_mom3_eval_groups = pd.concat([arima_sp500_mom3_mse_avg, arima_sp500_mom3_rmse_avg, arima_sp500_mom3_mae_avg], \n",
    "                                        axis = 1).to_csv(\"arima_sp500_mom3_eval_groups.csv\")"
   ]
  },
  {
   "cell_type": "markdown",
   "id": "5e74f755",
   "metadata": {},
   "source": [
    "### SP500 Moment 4 ARIMA DataFrame"
   ]
  },
  {
   "cell_type": "code",
   "execution_count": 86,
   "id": "1d648a1c",
   "metadata": {},
   "outputs": [],
   "source": [
    "arima_sp500_mom4_df = pd.DataFrame(list(zip(sp500_asset_names, sp500_groups_mom4, arima_sp500_mse_vals, \n",
    "                                     arima_sp500_rmse_vals, arima_sp500_mae_vals)), \n",
    "                            columns = [\"CryptoName\", \"Group\", \"MSE\", \"RMSE\", \"MAE\"])\n",
    "#arima_sp500_mom4_df"
   ]
  },
  {
   "cell_type": "code",
   "execution_count": 87,
   "id": "ca7a0e83",
   "metadata": {},
   "outputs": [],
   "source": [
    "arima_sp500_mom4_mse_avg = arima_sp500_mom4_df.groupby(\"Group\")[\"MSE\"].mean()\n",
    "arima_sp500_mom4_rmse_avg = arima_sp500_mom4_df.groupby(\"Group\")[\"RMSE\"].mean()\n",
    "arima_sp500_mom4_mae_avg = arima_sp500_mom4_df.groupby(\"Group\")[\"MAE\"].mean()\n",
    "\n",
    "arima_sp500_mom4_eval_groups = pd.concat([arima_sp500_mom4_mse_avg, arima_sp500_mom4_rmse_avg, arima_sp500_mom4_mae_avg], \n",
    "                                        axis = 1).to_csv(\"arima_sp500_mom4_eval_groups.csv\")"
   ]
  },
  {
   "cell_type": "markdown",
   "id": "bf8d9e7f",
   "metadata": {},
   "source": [
    "# Commodity Statistics"
   ]
  },
  {
   "cell_type": "markdown",
   "id": "a9a0f93d",
   "metadata": {},
   "source": [
    "## Moment 1 (Mean)"
   ]
  },
  {
   "cell_type": "code",
   "execution_count": 88,
   "id": "e6aab767",
   "metadata": {},
   "outputs": [],
   "source": [
    "comm_mean_dict = {}\n",
    "\n",
    "for stock in df_comm:\n",
    "    df_comm[stock].dropna(inplace = True)\n",
    "    comm_mean_dict[stock] = abs(np.mean(df_comm[stock]))\n",
    "comm_mean_dict = sorted(comm_mean_dict.items(), key = lambda x:x[0])\n",
    "#print(comm_mean_dict)"
   ]
  },
  {
   "cell_type": "code",
   "execution_count": 89,
   "id": "03f6840f",
   "metadata": {},
   "outputs": [],
   "source": [
    "comm_means_list = list(zip(*comm_mean_dict))[1]\n",
    "\n",
    "q1_comm_mean = np.quantile(comm_means_list, 0.2)\n",
    "q2_comm_mean = np.quantile(comm_means_list, 0.4)\n",
    "q3_comm_mean = np.quantile(comm_means_list, 0.6)\n",
    "q4_comm_mean = np.quantile(comm_means_list, 0.8)\n",
    "#print(q1_comm_mean, q2_comm_mean, q3_comm_mean, q4_comm_mean)"
   ]
  },
  {
   "cell_type": "code",
   "execution_count": 90,
   "id": "719cd0ae",
   "metadata": {},
   "outputs": [],
   "source": [
    "comm_mean_groups_dict = {}\n",
    "\n",
    "for i in range(len(comm_mean_dict)):\n",
    "    if comm_mean_dict[i][1] < q1_comm_mean:\n",
    "        comm_mean_groups_dict[(comm_mean_dict[i][0])] = 1\n",
    "    elif comm_mean_dict[i][1] >= q1_comm_mean and comm_mean_dict[i][1] < q2_comm_mean:\n",
    "        comm_mean_groups_dict[(comm_mean_dict[i][0])] = 2\n",
    "    elif comm_mean_dict[i][1] >= q2_comm_mean and comm_mean_dict[i][1] < q3_comm_mean:\n",
    "        comm_mean_groups_dict[(comm_mean_dict[i][0])] = 3\n",
    "    elif comm_mean_dict[i][1] >= q3_comm_mean and comm_mean_dict[i][1] < q4_comm_mean:\n",
    "        comm_mean_groups_dict[(comm_mean_dict[i][0])] = 4\n",
    "    else:\n",
    "        comm_mean_groups_dict[(comm_mean_dict[i][0])] = 5\n",
    "\n",
    "comm_mean_groups_dict = sorted(comm_mean_groups_dict.items(), key = lambda x:x[0])\n",
    "#comm_mean_groups_dict"
   ]
  },
  {
   "cell_type": "markdown",
   "id": "7242bd77",
   "metadata": {},
   "source": [
    "## Moment 2 (Variance)"
   ]
  },
  {
   "cell_type": "code",
   "execution_count": 91,
   "id": "99aada53",
   "metadata": {},
   "outputs": [],
   "source": [
    "comm_variance_dict = {}\n",
    "\n",
    "for stock in df_comm:\n",
    "    df_comm[stock].dropna(inplace = True)\n",
    "    comm_variance_dict[stock] = np.var(df_comm[stock])\n",
    "comm_variance_dict = sorted(comm_variance_dict.items(), key = lambda x:x[1])\n",
    "#print(comm_variance_dict)"
   ]
  },
  {
   "cell_type": "code",
   "execution_count": 92,
   "id": "8a33dae3",
   "metadata": {},
   "outputs": [],
   "source": [
    "comm_variance_list = list(zip(*comm_variance_dict))[1]\n",
    "\n",
    "q1_comm_variance = np.quantile(comm_variance_list, 0.2)\n",
    "q2_comm_variance = np.quantile(comm_variance_list, 0.4)\n",
    "q3_comm_variance = np.quantile(comm_variance_list, 0.6)\n",
    "q4_comm_variance = np.quantile(comm_variance_list, 0.8)\n",
    "#print(q1_comm_variance, q2_comm_variance, q3_comm_variance, q4_comm_variance)"
   ]
  },
  {
   "cell_type": "code",
   "execution_count": 93,
   "id": "f1356a37",
   "metadata": {},
   "outputs": [],
   "source": [
    "comm_variance_groups_dict = {}\n",
    "\n",
    "for i in range(len(comm_variance_dict)):\n",
    "    if comm_variance_dict[i][1] < q1_comm_variance:\n",
    "        comm_variance_groups_dict[(comm_variance_dict[i][0])] = 1\n",
    "    elif comm_variance_dict[i][1] >= q1_comm_variance and comm_variance_dict[i][1] < q2_comm_variance:\n",
    "        comm_variance_groups_dict[(comm_variance_dict[i][0])] = 2\n",
    "    elif comm_variance_dict[i][1] >= q2_comm_variance and comm_variance_dict[i][1] < q3_comm_variance:\n",
    "        comm_variance_groups_dict[(comm_variance_dict[i][0])] = 3\n",
    "    elif comm_variance_dict[i][1] >= q3_comm_variance and comm_variance_dict[i][1] < q4_comm_variance:\n",
    "        comm_variance_groups_dict[(comm_variance_dict[i][0])] = 4\n",
    "    else:\n",
    "        comm_variance_groups_dict[(comm_variance_dict[i][0])] = 5\n",
    "\n",
    "comm_variance_groups_dict = sorted(comm_variance_groups_dict.items(), key = lambda x:x[0])\n",
    "#comm_variance_groups_dict"
   ]
  },
  {
   "cell_type": "markdown",
   "id": "7830cca4",
   "metadata": {},
   "source": [
    "## Moment 3 (Skewness)"
   ]
  },
  {
   "cell_type": "code",
   "execution_count": 94,
   "id": "9e304aa6",
   "metadata": {},
   "outputs": [],
   "source": [
    "comm_skewness_dict = {}\n",
    "\n",
    "for stock in df_comm:\n",
    "    df_comm[stock].dropna(inplace = True)\n",
    "    comm_skewness_dict[stock] = abs(df_comm[stock].skew())\n",
    "comm_skewness_dict = sorted(comm_skewness_dict.items(), key = lambda x:x[1])\n",
    "#print(comm_skewness_dict)"
   ]
  },
  {
   "cell_type": "code",
   "execution_count": 95,
   "id": "7984bf46",
   "metadata": {},
   "outputs": [],
   "source": [
    "comm_skewness_list = list(zip(*comm_skewness_dict))[1]\n",
    "\n",
    "q1_comm_skewness = np.quantile(comm_skewness_list, 0.2)\n",
    "q2_comm_skewness = np.quantile(comm_skewness_list, 0.4)\n",
    "q3_comm_skewness = np.quantile(comm_skewness_list, 0.6)\n",
    "q4_comm_skewness = np.quantile(comm_skewness_list, 0.8)\n",
    "#print(q1_comm_skewness, q2_comm_skewness, q3_comm_skewness, q4_comm_skewness)"
   ]
  },
  {
   "cell_type": "code",
   "execution_count": 96,
   "id": "fd872664",
   "metadata": {},
   "outputs": [],
   "source": [
    "comm_skewness_groups_dict = {}\n",
    "\n",
    "for i in range(len(comm_skewness_dict)):\n",
    "    if comm_skewness_dict[i][1] < q1_comm_skewness:\n",
    "        comm_skewness_groups_dict[(comm_skewness_dict[i][0])] = 1\n",
    "    elif comm_skewness_dict[i][1] >= q1_comm_skewness and comm_skewness_dict[i][1] < q2_comm_skewness:\n",
    "        comm_skewness_groups_dict[(comm_skewness_dict[i][0])] = 2\n",
    "    elif comm_skewness_dict[i][1] >= q2_comm_skewness and comm_skewness_dict[i][1] < q3_comm_skewness:\n",
    "        comm_skewness_groups_dict[(comm_skewness_dict[i][0])] = 3\n",
    "    elif comm_skewness_dict[i][1] >= q3_comm_skewness and comm_skewness_dict[i][1] < q4_comm_skewness:\n",
    "        comm_skewness_groups_dict[(comm_skewness_dict[i][0])] = 4\n",
    "    else:\n",
    "        comm_skewness_groups_dict[(comm_skewness_dict[i][0])] = 5\n",
    "\n",
    "comm_skewness_groups_dict = sorted(comm_skewness_groups_dict.items(), key = lambda x:x[0])\n",
    "#comm_skewness_groups_dict"
   ]
  },
  {
   "cell_type": "markdown",
   "id": "b37bda5d",
   "metadata": {},
   "source": [
    "## Moment 4 (Kurtosis)"
   ]
  },
  {
   "cell_type": "code",
   "execution_count": 97,
   "id": "74f15c44",
   "metadata": {},
   "outputs": [],
   "source": [
    "comm_kurtosis_dict = {}\n",
    "\n",
    "for stock in df_comm:\n",
    "    df_comm[stock].dropna(inplace = True)\n",
    "    comm_kurtosis_dict[stock] = df_comm[stock].kurtosis()\n",
    "comm_kurtosis_dict = sorted(comm_kurtosis_dict.items(), key = lambda x:x[1])\n",
    "#print(comm_kurtosis_dict)"
   ]
  },
  {
   "cell_type": "code",
   "execution_count": 98,
   "id": "c4ea4acd",
   "metadata": {},
   "outputs": [],
   "source": [
    "comm_kurtosis_list = list(zip(*comm_kurtosis_dict))[1]\n",
    "\n",
    "q1_comm_kurtosis = np.quantile(comm_kurtosis_list, 0.2)\n",
    "q2_comm_kurtosis = np.quantile(comm_kurtosis_list, 0.4)\n",
    "q3_comm_kurtosis = np.quantile(comm_kurtosis_list, 0.6)\n",
    "q4_comm_kurtosis = np.quantile(comm_kurtosis_list, 0.8)\n",
    "#print(q1_comm_kurtosis, q2_comm_kurtosis, q3_comm_kurtosis, q4_comm_kurtosis)"
   ]
  },
  {
   "cell_type": "code",
   "execution_count": 99,
   "id": "e8cfa86f",
   "metadata": {},
   "outputs": [],
   "source": [
    "comm_kurtosis_groups_dict = {}\n",
    "\n",
    "for i in range(len(comm_kurtosis_dict)):\n",
    "    if comm_kurtosis_dict[i][1] < q1_comm_kurtosis:\n",
    "        comm_kurtosis_groups_dict[(comm_kurtosis_dict[i][0])] = 1\n",
    "    elif comm_kurtosis_dict[i][1] >= q1_comm_kurtosis and comm_kurtosis_dict[i][1] < q2_comm_kurtosis:\n",
    "        comm_kurtosis_groups_dict[(comm_kurtosis_dict[i][0])] = 2\n",
    "    elif comm_kurtosis_dict[i][1] >= q2_comm_kurtosis and comm_kurtosis_dict[i][1] < q3_comm_kurtosis:\n",
    "        comm_kurtosis_groups_dict[(comm_kurtosis_dict[i][0])] = 3\n",
    "    elif comm_kurtosis_dict[i][1] >= q3_comm_kurtosis and comm_kurtosis_dict[i][1] < q4_comm_kurtosis:\n",
    "        comm_kurtosis_groups_dict[(comm_kurtosis_dict[i][0])] = 4\n",
    "    else:\n",
    "        comm_kurtosis_groups_dict[(comm_kurtosis_dict[i][0])] = 5\n",
    "\n",
    "comm_kurtosis_groups_dict = sorted(comm_kurtosis_groups_dict.items(), key = lambda x:x[0])\n",
    "#comm_kurtosis_groups_dict"
   ]
  },
  {
   "cell_type": "markdown",
   "id": "f3d3f95b",
   "metadata": {},
   "source": [
    "## Commodity Moment DataFrames"
   ]
  },
  {
   "cell_type": "code",
   "execution_count": 100,
   "id": "e12bd74e",
   "metadata": {},
   "outputs": [],
   "source": [
    "comm_asset_names = []\n",
    "\n",
    "for i in range(len(comm_mean_groups_dict)):\n",
    "    comm_asset_names.append(comm_mean_groups_dict[i][0])\n",
    "#comm_asset_names"
   ]
  },
  {
   "cell_type": "code",
   "execution_count": 101,
   "id": "804101f6",
   "metadata": {},
   "outputs": [],
   "source": [
    "comm_groups_mom1 = []\n",
    "comm_groups_mom2 = []\n",
    "comm_groups_mom3 = []\n",
    "comm_groups_mom4 = []\n",
    "\n",
    "for i in range(len(comm_mean_groups_dict)):\n",
    "    comm_groups_mom1.append(comm_mean_groups_dict[i][1])\n",
    "    comm_groups_mom2.append(comm_variance_groups_dict[i][1])\n",
    "    comm_groups_mom3.append(comm_skewness_groups_dict[i][1])\n",
    "    comm_groups_mom4.append(comm_kurtosis_groups_dict[i][1])"
   ]
  },
  {
   "cell_type": "code",
   "execution_count": 102,
   "id": "fa371c8b",
   "metadata": {},
   "outputs": [],
   "source": [
    "lstm_comm_mse_dict_new = sorted(lstm_comm_mse_dict.items(), key = lambda x:x[0])\n",
    "lstm_comm_rmse_dict_new = sorted(lstm_comm_rmse_dict.items(), key = lambda x:x[0])\n",
    "lstm_comm_mae_dict_new = sorted(lstm_comm_mae_dict.items(), key = lambda x:x[0])\n",
    "\n",
    "lstm_comm_mse_vals = []\n",
    "lstm_comm_rmse_vals = []\n",
    "lstm_comm_mae_vals = []\n",
    "\n",
    "for i in range(len(comm_mean_groups_dict)):\n",
    "    lstm_comm_mse_vals.append(lstm_comm_mse_dict_new[i][1])\n",
    "    lstm_comm_rmse_vals.append(lstm_comm_rmse_dict_new[i][1])\n",
    "    lstm_comm_mae_vals.append(lstm_comm_mae_dict_new[i][1])"
   ]
  },
  {
   "cell_type": "code",
   "execution_count": 103,
   "id": "9d385581",
   "metadata": {},
   "outputs": [],
   "source": [
    "gru_comm_mse_dict_new = sorted(gru_comm_mse_dict.items(), key = lambda x:x[0])\n",
    "gru_comm_rmse_dict_new = sorted(gru_comm_rmse_dict.items(), key = lambda x:x[0])\n",
    "gru_comm_mae_dict_new = sorted(gru_comm_mae_dict.items(), key = lambda x:x[0])\n",
    "\n",
    "gru_comm_mse_vals = []\n",
    "gru_comm_rmse_vals = []\n",
    "gru_comm_mae_vals = []\n",
    "\n",
    "for i in range(len(comm_mean_groups_dict)):\n",
    "    gru_comm_mse_vals.append(gru_comm_mse_dict_new[i][1])\n",
    "    gru_comm_rmse_vals.append(gru_comm_rmse_dict_new[i][1])\n",
    "    gru_comm_mae_vals.append(gru_comm_mae_dict_new[i][1])"
   ]
  },
  {
   "cell_type": "code",
   "execution_count": 104,
   "id": "17868faf",
   "metadata": {},
   "outputs": [],
   "source": [
    "arima_comm_mse_dict_new = sorted(arima_comm_mse_dict.items(), key = lambda x:x[0])\n",
    "arima_comm_rmse_dict_new = sorted(arima_comm_rmse_dict.items(), key = lambda x:x[0])\n",
    "arima_comm_mae_dict_new = sorted(arima_comm_mae_dict.items(), key = lambda x:x[0])\n",
    "\n",
    "arima_comm_mse_vals = []\n",
    "arima_comm_rmse_vals = []\n",
    "arima_comm_mae_vals = []\n",
    "\n",
    "for i in range(len(comm_mean_groups_dict)):\n",
    "    arima_comm_mse_vals.append(arima_comm_mse_dict_new[i][1])\n",
    "    arima_comm_rmse_vals.append(arima_comm_rmse_dict_new[i][1])\n",
    "    arima_comm_mae_vals.append(arima_comm_mae_dict_new[i][1])"
   ]
  },
  {
   "cell_type": "markdown",
   "id": "8730b3b9",
   "metadata": {},
   "source": [
    "### Commodity Moment 1 LSTM DataFrame"
   ]
  },
  {
   "cell_type": "code",
   "execution_count": 105,
   "id": "964b3343",
   "metadata": {},
   "outputs": [],
   "source": [
    "lstm_comm_mom1_df = pd.DataFrame(list(zip(comm_asset_names, comm_groups_mom1, lstm_comm_mse_vals, \n",
    "                                     lstm_comm_rmse_vals, lstm_comm_mae_vals)), \n",
    "                            columns = [\"CryptoName\", \"Group\", \"MSE\", \"RMSE\", \"MAE\"])\n",
    "#lstm_comm_mom1_df"
   ]
  },
  {
   "cell_type": "code",
   "execution_count": 106,
   "id": "0ebba16a",
   "metadata": {},
   "outputs": [],
   "source": [
    "lstm_comm_mom1_mse_avg = lstm_comm_mom1_df.groupby(\"Group\")[\"MSE\"].mean()\n",
    "lstm_comm_mom1_rmse_avg = lstm_comm_mom1_df.groupby(\"Group\")[\"RMSE\"].mean()\n",
    "lstm_comm_mom1_mae_avg = lstm_comm_mom1_df.groupby(\"Group\")[\"MAE\"].mean()\n",
    "\n",
    "lstm_comm_mom1_eval_groups = pd.concat([lstm_comm_mom1_mse_avg, lstm_comm_mom1_rmse_avg, lstm_comm_mom1_mae_avg], \n",
    "                                        axis = 1).to_csv(\"lstm_comm_mom1_eval_groups.csv\")"
   ]
  },
  {
   "cell_type": "markdown",
   "id": "d23998de",
   "metadata": {},
   "source": [
    "### Commodity Moment 2 LSTM DataFrame"
   ]
  },
  {
   "cell_type": "code",
   "execution_count": 107,
   "id": "d19e867b",
   "metadata": {},
   "outputs": [],
   "source": [
    "lstm_comm_mom2_df = pd.DataFrame(list(zip(comm_asset_names, comm_groups_mom2, lstm_comm_mse_vals, \n",
    "                                     lstm_comm_rmse_vals, lstm_comm_mae_vals)), \n",
    "                            columns = [\"CryptoName\", \"Group\", \"MSE\", \"RMSE\", \"MAE\"])\n",
    "#lstm_comm_mom2_df "
   ]
  },
  {
   "cell_type": "code",
   "execution_count": 108,
   "id": "a7a3a0ab",
   "metadata": {},
   "outputs": [],
   "source": [
    "lstm_comm_mom2_mse_avg = lstm_comm_mom2_df.groupby(\"Group\")[\"MSE\"].mean()\n",
    "lstm_comm_mom2_rmse_avg = lstm_comm_mom2_df.groupby(\"Group\")[\"RMSE\"].mean()\n",
    "lstm_comm_mom2_mae_avg = lstm_comm_mom2_df.groupby(\"Group\")[\"MAE\"].mean()\n",
    "\n",
    "lstm_comm_mom2_eval_groups = pd.concat([lstm_comm_mom2_mse_avg, lstm_comm_mom2_rmse_avg, lstm_comm_mom2_mae_avg], \n",
    "                                        axis = 1).to_csv(\"lstm_comm_mom2_eval_groups.csv\")"
   ]
  },
  {
   "cell_type": "markdown",
   "id": "01e13d10",
   "metadata": {},
   "source": [
    "### Commodity Moment 3 LSTM DataFrame"
   ]
  },
  {
   "cell_type": "code",
   "execution_count": 109,
   "id": "f5d3b0a3",
   "metadata": {},
   "outputs": [],
   "source": [
    "lstm_comm_mom3_df = pd.DataFrame(list(zip(comm_asset_names, comm_groups_mom3, lstm_comm_mse_vals, \n",
    "                                     lstm_comm_rmse_vals, lstm_comm_mae_vals)), \n",
    "                            columns = [\"CryptoName\", \"Group\", \"MSE\", \"RMSE\", \"MAE\"])\n",
    "#lstm_comm_mom3_df "
   ]
  },
  {
   "cell_type": "code",
   "execution_count": 110,
   "id": "469b81d9",
   "metadata": {},
   "outputs": [],
   "source": [
    "lstm_comm_mom3_mse_avg = lstm_comm_mom3_df.groupby(\"Group\")[\"MSE\"].mean()\n",
    "lstm_comm_mom3_rmse_avg = lstm_comm_mom3_df.groupby(\"Group\")[\"RMSE\"].mean()\n",
    "lstm_comm_mom3_mae_avg = lstm_comm_mom3_df.groupby(\"Group\")[\"MAE\"].mean()\n",
    "\n",
    "lstm_comm_mom3_eval_groups = pd.concat([lstm_comm_mom3_mse_avg, lstm_comm_mom3_rmse_avg, lstm_comm_mom3_mae_avg], \n",
    "                                        axis = 1).to_csv(\"lstm_comm_mom3_eval_groups.csv\")"
   ]
  },
  {
   "cell_type": "markdown",
   "id": "16580396",
   "metadata": {},
   "source": [
    "### Commodity Moment 4 LSTM DataFrame"
   ]
  },
  {
   "cell_type": "code",
   "execution_count": 111,
   "id": "ca11f15d",
   "metadata": {},
   "outputs": [],
   "source": [
    "lstm_comm_mom4_df = pd.DataFrame(list(zip(comm_asset_names, comm_groups_mom4, lstm_comm_mse_vals, \n",
    "                                     lstm_comm_rmse_vals, lstm_comm_mae_vals)), \n",
    "                            columns = [\"CryptoName\", \"Group\", \"MSE\", \"RMSE\", \"MAE\"])\n",
    "#lstm_comm_mom4_df"
   ]
  },
  {
   "cell_type": "code",
   "execution_count": 112,
   "id": "c519ee95",
   "metadata": {},
   "outputs": [],
   "source": [
    "lstm_comm_mom4_mse_avg = lstm_comm_mom4_df.groupby(\"Group\")[\"MSE\"].mean()\n",
    "lstm_comm_mom4_rmse_avg = lstm_comm_mom4_df.groupby(\"Group\")[\"RMSE\"].mean()\n",
    "lstm_comm_mom4_mae_avg = lstm_comm_mom4_df.groupby(\"Group\")[\"MAE\"].mean()\n",
    "\n",
    "lstm_comm_mom4_eval_groups = pd.concat([lstm_comm_mom4_mse_avg, lstm_comm_mom4_rmse_avg, lstm_comm_mom4_mae_avg], \n",
    "                                        axis = 1).to_csv(\"lstm_comm_mom4_eval_groups.csv\")"
   ]
  },
  {
   "cell_type": "markdown",
   "id": "694cae97",
   "metadata": {},
   "source": [
    "### Commodity Moment 1 GRU DataFrame"
   ]
  },
  {
   "cell_type": "code",
   "execution_count": 113,
   "id": "17ab7ede",
   "metadata": {},
   "outputs": [],
   "source": [
    "gru_comm_mom1_df = pd.DataFrame(list(zip(comm_asset_names, comm_groups_mom1, gru_comm_mse_vals, \n",
    "                                     gru_comm_rmse_vals, gru_comm_mae_vals)), \n",
    "                            columns = [\"CryptoName\", \"Group\", \"MSE\", \"RMSE\", \"MAE\"])\n",
    "#gru_comm_mom1_df"
   ]
  },
  {
   "cell_type": "code",
   "execution_count": 114,
   "id": "74cc9132",
   "metadata": {},
   "outputs": [],
   "source": [
    "gru_comm_mom1_mse_avg = gru_comm_mom1_df.groupby(\"Group\")[\"MSE\"].mean()\n",
    "gru_comm_mom1_rmse_avg = gru_comm_mom1_df.groupby(\"Group\")[\"RMSE\"].mean()\n",
    "gru_comm_mom1_mae_avg = gru_comm_mom1_df.groupby(\"Group\")[\"MAE\"].mean()\n",
    "\n",
    "gru_comm_mom1_eval_groups = pd.concat([gru_comm_mom1_mse_avg, gru_comm_mom1_rmse_avg, gru_comm_mom1_mae_avg], \n",
    "                                        axis = 1).to_csv(\"gru_comm_mom1_eval_groups.csv\")"
   ]
  },
  {
   "cell_type": "markdown",
   "id": "7215bac0",
   "metadata": {},
   "source": [
    "### Commodity Moment 2 GRU DataFrame"
   ]
  },
  {
   "cell_type": "code",
   "execution_count": 115,
   "id": "a898d9e2",
   "metadata": {},
   "outputs": [],
   "source": [
    "gru_comm_mom2_df = pd.DataFrame(list(zip(comm_asset_names, comm_groups_mom2, gru_comm_mse_vals, \n",
    "                                     gru_comm_rmse_vals, gru_comm_mae_vals)), \n",
    "                            columns = [\"CryptoName\", \"Group\", \"MSE\", \"RMSE\", \"MAE\"])\n",
    "#gru_comm_mom2_df"
   ]
  },
  {
   "cell_type": "code",
   "execution_count": 116,
   "id": "23d90b95",
   "metadata": {},
   "outputs": [],
   "source": [
    "gru_comm_mom2_mse_avg = gru_comm_mom1_df.groupby(\"Group\")[\"MSE\"].mean()\n",
    "gru_comm_mom2_rmse_avg = gru_comm_mom1_df.groupby(\"Group\")[\"RMSE\"].mean()\n",
    "gru_comm_mom2_mae_avg = gru_comm_mom1_df.groupby(\"Group\")[\"MAE\"].mean()\n",
    "\n",
    "gru_comm_mom2_eval_groups = pd.concat([gru_comm_mom2_mse_avg, gru_comm_mom2_rmse_avg, gru_comm_mom2_mae_avg], \n",
    "                                        axis = 1).to_csv(\"gru_comm_mom2_eval_groups.csv\")"
   ]
  },
  {
   "cell_type": "markdown",
   "id": "465bc49f",
   "metadata": {},
   "source": [
    "### Commodity Moment 3 GRU DataFrame"
   ]
  },
  {
   "cell_type": "code",
   "execution_count": 117,
   "id": "e7a129eb",
   "metadata": {},
   "outputs": [],
   "source": [
    "gru_comm_mom3_df = pd.DataFrame(list(zip(comm_asset_names, comm_groups_mom3, gru_comm_mse_vals, \n",
    "                                     gru_comm_rmse_vals, gru_comm_mae_vals)), \n",
    "                            columns = [\"CryptoName\", \"Group\", \"MSE\", \"RMSE\", \"MAE\"])\n",
    "#gru_comm_mom3_df"
   ]
  },
  {
   "cell_type": "code",
   "execution_count": 118,
   "id": "33b607c0",
   "metadata": {},
   "outputs": [],
   "source": [
    "gru_comm_mom3_mse_avg = gru_comm_mom3_df.groupby(\"Group\")[\"MSE\"].mean()\n",
    "gru_comm_mom3_rmse_avg = gru_comm_mom3_df.groupby(\"Group\")[\"RMSE\"].mean()\n",
    "gru_comm_mom3_mae_avg = gru_comm_mom3_df.groupby(\"Group\")[\"MAE\"].mean()\n",
    "\n",
    "gru_comm_mom3_eval_groups = pd.concat([gru_comm_mom3_mse_avg, gru_comm_mom3_rmse_avg, gru_comm_mom3_mae_avg], \n",
    "                                        axis = 1).to_csv(\"gru_comm_mom3_eval_groups.csv\")"
   ]
  },
  {
   "cell_type": "markdown",
   "id": "5b47292d",
   "metadata": {},
   "source": [
    "### Commodity Moment 4 GRU DataFrame"
   ]
  },
  {
   "cell_type": "code",
   "execution_count": 119,
   "id": "066f5f38",
   "metadata": {},
   "outputs": [],
   "source": [
    "gru_comm_mom4_df = pd.DataFrame(list(zip(comm_asset_names, comm_groups_mom4, gru_comm_mse_vals, \n",
    "                                     gru_comm_rmse_vals, gru_comm_mae_vals)), \n",
    "                            columns = [\"CryptoName\", \"Group\", \"MSE\", \"RMSE\", \"MAE\"])\n",
    "#gru_comm_mom4_df"
   ]
  },
  {
   "cell_type": "code",
   "execution_count": 120,
   "id": "20fa198c",
   "metadata": {},
   "outputs": [],
   "source": [
    "gru_comm_mom4_mse_avg = gru_comm_mom3_df.groupby(\"Group\")[\"MSE\"].mean()\n",
    "gru_comm_mom4_rmse_avg = gru_comm_mom3_df.groupby(\"Group\")[\"RMSE\"].mean()\n",
    "gru_comm_mom4_mae_avg = gru_comm_mom3_df.groupby(\"Group\")[\"MAE\"].mean()\n",
    "\n",
    "gru_comm_mom4_eval_groups = pd.concat([gru_comm_mom4_mse_avg, gru_comm_mom4_rmse_avg, gru_comm_mom4_mae_avg], \n",
    "                                        axis = 1).to_csv(\"gru_comm_mom4_eval_groups.csv\")"
   ]
  },
  {
   "cell_type": "markdown",
   "id": "a9f90f8e",
   "metadata": {},
   "source": [
    "### Commodity Moment 1 ARIMA DataFrame"
   ]
  },
  {
   "cell_type": "code",
   "execution_count": 121,
   "id": "01f350f0",
   "metadata": {},
   "outputs": [],
   "source": [
    "arima_comm_mom1_df = pd.DataFrame(list(zip(comm_asset_names, comm_groups_mom1,arima_comm_mse_vals, \n",
    "                                    arima_comm_rmse_vals,arima_comm_mae_vals)), \n",
    "                            columns = [\"CryptoName\", \"Group\", \"MSE\", \"RMSE\", \"MAE\"])\n",
    "#arima_comm_mom1_df"
   ]
  },
  {
   "cell_type": "code",
   "execution_count": 122,
   "id": "4c59c264",
   "metadata": {},
   "outputs": [],
   "source": [
    "arima_comm_mom1_mse_avg = arima_comm_mom1_df.groupby(\"Group\")[\"MSE\"].mean()\n",
    "arima_comm_mom1_rmse_avg = arima_comm_mom1_df.groupby(\"Group\")[\"RMSE\"].mean()\n",
    "arima_comm_mom1_mae_avg = arima_comm_mom1_df.groupby(\"Group\")[\"MAE\"].mean()\n",
    "\n",
    "arima_comm_mom1_eval_groups = pd.concat([arima_comm_mom1_mse_avg, arima_comm_mom1_rmse_avg, arima_comm_mom1_mae_avg], \n",
    "                                        axis = 1).to_csv(\"arima_comm_mom1_eval_groups.csv\")"
   ]
  },
  {
   "cell_type": "markdown",
   "id": "310c8ec6",
   "metadata": {},
   "source": [
    "### Commodity Moment 2 ARIMA DataFrame"
   ]
  },
  {
   "cell_type": "code",
   "execution_count": 123,
   "id": "ccec7af1",
   "metadata": {},
   "outputs": [],
   "source": [
    "arima_comm_mom2_df = pd.DataFrame(list(zip(comm_asset_names, comm_groups_mom2,arima_comm_mse_vals, \n",
    "                                    arima_comm_rmse_vals,arima_comm_mae_vals)), \n",
    "                            columns = [\"CryptoName\", \"Group\", \"MSE\", \"RMSE\", \"MAE\"])\n",
    "#arima_comm_mom2_df"
   ]
  },
  {
   "cell_type": "code",
   "execution_count": 124,
   "id": "5224f3fa",
   "metadata": {},
   "outputs": [],
   "source": [
    "arima_comm_mom2_mse_avg = arima_comm_mom2_df.groupby(\"Group\")[\"MSE\"].mean()\n",
    "arima_comm_mom2_rmse_avg = arima_comm_mom2_df.groupby(\"Group\")[\"RMSE\"].mean()\n",
    "arima_comm_mom2_mae_avg = arima_comm_mom2_df.groupby(\"Group\")[\"MAE\"].mean()\n",
    "\n",
    "arima_comm_mom2_eval_groups = pd.concat([arima_comm_mom2_mse_avg, arima_comm_mom2_rmse_avg, arima_comm_mom2_mae_avg], \n",
    "                                        axis = 1).to_csv(\"arima_comm_mom2_eval_groups.csv\")"
   ]
  },
  {
   "cell_type": "markdown",
   "id": "6e32b310",
   "metadata": {},
   "source": [
    "### Commodity Moment 3 ARIMA DataFrame"
   ]
  },
  {
   "cell_type": "code",
   "execution_count": 125,
   "id": "4fe29c65",
   "metadata": {},
   "outputs": [],
   "source": [
    "arima_comm_mom3_df = pd.DataFrame(list(zip(comm_asset_names, comm_groups_mom3,arima_comm_mse_vals, \n",
    "                                    arima_comm_rmse_vals,arima_comm_mae_vals)), \n",
    "                            columns = [\"CryptoName\", \"Group\", \"MSE\", \"RMSE\", \"MAE\"])\n",
    "#arima_comm_mom3_df"
   ]
  },
  {
   "cell_type": "code",
   "execution_count": 126,
   "id": "3573257b",
   "metadata": {},
   "outputs": [],
   "source": [
    "arima_comm_mom3_mse_avg = arima_comm_mom3_df.groupby(\"Group\")[\"MSE\"].mean()\n",
    "arima_comm_mom3_rmse_avg = arima_comm_mom3_df.groupby(\"Group\")[\"RMSE\"].mean()\n",
    "arima_comm_mom3_mae_avg = arima_comm_mom3_df.groupby(\"Group\")[\"MAE\"].mean()\n",
    "\n",
    "arima_comm_mom3_eval_groups = pd.concat([arima_comm_mom3_mse_avg, arima_comm_mom3_rmse_avg, arima_comm_mom3_mae_avg], \n",
    "                                        axis = 1).to_csv(\"arima_comm_mom3_eval_groups.csv\")"
   ]
  },
  {
   "cell_type": "markdown",
   "id": "39d48bdc",
   "metadata": {},
   "source": [
    "### Commodity Moment 4 ARIMA DataFrame"
   ]
  },
  {
   "cell_type": "code",
   "execution_count": 127,
   "id": "e6c35ee8",
   "metadata": {},
   "outputs": [],
   "source": [
    "arima_comm_mom4_df = pd.DataFrame(list(zip(comm_asset_names, comm_groups_mom4,arima_comm_mse_vals, \n",
    "                                    arima_comm_rmse_vals,arima_comm_mae_vals)), \n",
    "                            columns = [\"CryptoName\", \"Group\", \"MSE\", \"RMSE\", \"MAE\"])\n",
    "#arima_comm_mom4_df"
   ]
  },
  {
   "cell_type": "code",
   "execution_count": 128,
   "id": "a27c8f96",
   "metadata": {},
   "outputs": [],
   "source": [
    "arima_comm_mom4_mse_avg = arima_comm_mom1_df.groupby(\"Group\")[\"MSE\"].mean()\n",
    "arima_comm_mom4_rmse_avg = arima_comm_mom1_df.groupby(\"Group\")[\"RMSE\"].mean()\n",
    "arima_comm_mom4_mae_avg = arima_comm_mom1_df.groupby(\"Group\")[\"MAE\"].mean()\n",
    "\n",
    "arima_comm_mom4_eval_groups = pd.concat([arima_comm_mom4_mse_avg, arima_comm_mom4_rmse_avg, arima_comm_mom4_mae_avg], \n",
    "                                        axis = 1).to_csv(\"arima_comm_mom4_eval_groups.csv\")"
   ]
  },
  {
   "cell_type": "code",
   "execution_count": null,
   "id": "935b234a",
   "metadata": {},
   "outputs": [],
   "source": []
  }
 ],
 "metadata": {
  "kernelspec": {
   "display_name": "Python 3 (ipykernel)",
   "language": "python",
   "name": "python3"
  },
  "language_info": {
   "codemirror_mode": {
    "name": "ipython",
    "version": 3
   },
   "file_extension": ".py",
   "mimetype": "text/x-python",
   "name": "python",
   "nbconvert_exporter": "python",
   "pygments_lexer": "ipython3",
   "version": "3.9.12"
  }
 },
 "nbformat": 4,
 "nbformat_minor": 5
}
